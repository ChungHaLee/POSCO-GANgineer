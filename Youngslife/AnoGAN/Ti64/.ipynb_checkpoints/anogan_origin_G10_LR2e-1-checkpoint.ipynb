{
 "cells": [
  {
   "cell_type": "markdown",
   "metadata": {},
   "source": [
    "# AnoGAN\n",
    "## 2020.08.11: Generator 학습 수\n",
    "<hr/>"
   ]
  },
  {
   "cell_type": "markdown",
   "metadata": {},
   "source": [
    "#### parameter\n",
    "\n",
    "- 2020.08.16\n",
    "\n",
    "> latent_size = 100  \n",
    "> workers = 4 \n",
    "> img_size = 64  \n",
    "> channel = 1  \n",
    "> epochs = 100  \n",
    "> batch_size = 64  \n",
    "> **learning_rate = 2e-1  \n",
    "> learning_G_per_D = 10**\n",
    "\n"
   ]
  },
  {
   "cell_type": "markdown",
   "metadata": {},
   "source": [
    "# Module"
   ]
  },
  {
   "cell_type": "code",
   "execution_count": 1,
   "metadata": {},
   "outputs": [],
   "source": [
    "import torch\n",
    "import torch.nn as nn\n",
    "import torchvision\n",
    "from torchvision import transforms\n",
    "from torchvision.utils import save_image\n",
    "import os\n",
    "import numpy as np\n",
    "\n",
    "import torchvision.datasets as dataset\n",
    "import torchvision.transforms as transforms\n",
    "import torchvision.utils as vutils\n",
    "\n",
    "# Graph & Animation\n",
    "import matplotlib.pyplot as plt\n",
    "import matplotlib.animation as animation\n",
    "from IPython.display import HTML"
   ]
  },
  {
   "cell_type": "markdown",
   "metadata": {},
   "source": [
    "# Hyper Parameter"
   ]
  },
  {
   "cell_type": "code",
   "execution_count": 2,
   "metadata": {},
   "outputs": [],
   "source": [
    "latent_size = 100 # z벡터의 잠재공간(latent space)의 크기\n",
    "workers = 4 # 0일때, 약 20% 사용 4일 경우 메모리 100%\n",
    "img_size = 64\n",
    "channel = 1\n",
    "epochs = 100\n",
    "batch_size = 64\n",
    "learning_rate = 2e-1"
   ]
  },
  {
   "cell_type": "markdown",
   "metadata": {},
   "source": [
    "# Data and Device"
   ]
  },
  {
   "cell_type": "code",
   "execution_count": 3,
   "metadata": {},
   "outputs": [
    {
     "ename": "FileNotFoundError",
     "evalue": "[Errno 2] No such file or directory: '../../OhSeHyeon/source/dataset/aug_train'",
     "output_type": "error",
     "traceback": [
      "\u001b[0;31m---------------------------------------------------------------------------\u001b[0m",
      "\u001b[0;31mFileNotFoundError\u001b[0m                         Traceback (most recent call last)",
      "\u001b[0;32m<ipython-input-3-25def3b945fc>\u001b[0m in \u001b[0;36m<module>\u001b[0;34m\u001b[0m\n\u001b[1;32m      9\u001b[0m                                   \u001b[0mtorchvision\u001b[0m\u001b[0;34m.\u001b[0m\u001b[0mtransforms\u001b[0m\u001b[0;34m.\u001b[0m\u001b[0mGrayscale\u001b[0m\u001b[0;34m(\u001b[0m\u001b[0mchannel\u001b[0m\u001b[0;34m)\u001b[0m\u001b[0;34m,\u001b[0m\u001b[0;34m\u001b[0m\u001b[0;34m\u001b[0m\u001b[0m\n\u001b[1;32m     10\u001b[0m                                   \u001b[0mtransforms\u001b[0m\u001b[0;34m.\u001b[0m\u001b[0mToTensor\u001b[0m\u001b[0;34m(\u001b[0m\u001b[0;34m)\u001b[0m\u001b[0;34m,\u001b[0m\u001b[0;34m\u001b[0m\u001b[0;34m\u001b[0m\u001b[0m\n\u001b[0;32m---> 11\u001b[0;31m                                   \u001b[0mtransforms\u001b[0m\u001b[0;34m.\u001b[0m\u001b[0mNormalize\u001b[0m\u001b[0;34m(\u001b[0m\u001b[0;34m(\u001b[0m\u001b[0;36m0.5\u001b[0m\u001b[0;34m,\u001b[0m\u001b[0;34m)\u001b[0m\u001b[0;34m,\u001b[0m\u001b[0;34m(\u001b[0m\u001b[0;36m0.5\u001b[0m\u001b[0;34m,\u001b[0m\u001b[0;34m)\u001b[0m\u001b[0;34m)\u001b[0m\u001b[0;34m\u001b[0m\u001b[0;34m\u001b[0m\u001b[0m\n\u001b[0m\u001b[1;32m     12\u001b[0m                               ]))\n\u001b[1;32m     13\u001b[0m \u001b[0;34m\u001b[0m\u001b[0m\n",
      "\u001b[0;32m~/anaconda3/lib/python3.7/site-packages/torchvision/datasets/folder.py\u001b[0m in \u001b[0;36m__init__\u001b[0;34m(self, root, transform, target_transform, loader, is_valid_file)\u001b[0m\n\u001b[1;32m    206\u001b[0m                                           \u001b[0mtransform\u001b[0m\u001b[0;34m=\u001b[0m\u001b[0mtransform\u001b[0m\u001b[0;34m,\u001b[0m\u001b[0;34m\u001b[0m\u001b[0;34m\u001b[0m\u001b[0m\n\u001b[1;32m    207\u001b[0m                                           \u001b[0mtarget_transform\u001b[0m\u001b[0;34m=\u001b[0m\u001b[0mtarget_transform\u001b[0m\u001b[0;34m,\u001b[0m\u001b[0;34m\u001b[0m\u001b[0;34m\u001b[0m\u001b[0m\n\u001b[0;32m--> 208\u001b[0;31m                                           is_valid_file=is_valid_file)\n\u001b[0m\u001b[1;32m    209\u001b[0m         \u001b[0mself\u001b[0m\u001b[0;34m.\u001b[0m\u001b[0mimgs\u001b[0m \u001b[0;34m=\u001b[0m \u001b[0mself\u001b[0m\u001b[0;34m.\u001b[0m\u001b[0msamples\u001b[0m\u001b[0;34m\u001b[0m\u001b[0;34m\u001b[0m\u001b[0m\n",
      "\u001b[0;32m~/anaconda3/lib/python3.7/site-packages/torchvision/datasets/folder.py\u001b[0m in \u001b[0;36m__init__\u001b[0;34m(self, root, loader, extensions, transform, target_transform, is_valid_file)\u001b[0m\n\u001b[1;32m     92\u001b[0m         super(DatasetFolder, self).__init__(root, transform=transform,\n\u001b[1;32m     93\u001b[0m                                             target_transform=target_transform)\n\u001b[0;32m---> 94\u001b[0;31m         \u001b[0mclasses\u001b[0m\u001b[0;34m,\u001b[0m \u001b[0mclass_to_idx\u001b[0m \u001b[0;34m=\u001b[0m \u001b[0mself\u001b[0m\u001b[0;34m.\u001b[0m\u001b[0m_find_classes\u001b[0m\u001b[0;34m(\u001b[0m\u001b[0mself\u001b[0m\u001b[0;34m.\u001b[0m\u001b[0mroot\u001b[0m\u001b[0;34m)\u001b[0m\u001b[0;34m\u001b[0m\u001b[0;34m\u001b[0m\u001b[0m\n\u001b[0m\u001b[1;32m     95\u001b[0m         \u001b[0msamples\u001b[0m \u001b[0;34m=\u001b[0m \u001b[0mmake_dataset\u001b[0m\u001b[0;34m(\u001b[0m\u001b[0mself\u001b[0m\u001b[0;34m.\u001b[0m\u001b[0mroot\u001b[0m\u001b[0;34m,\u001b[0m \u001b[0mclass_to_idx\u001b[0m\u001b[0;34m,\u001b[0m \u001b[0mextensions\u001b[0m\u001b[0;34m,\u001b[0m \u001b[0mis_valid_file\u001b[0m\u001b[0;34m)\u001b[0m\u001b[0;34m\u001b[0m\u001b[0;34m\u001b[0m\u001b[0m\n\u001b[1;32m     96\u001b[0m         \u001b[0;32mif\u001b[0m \u001b[0mlen\u001b[0m\u001b[0;34m(\u001b[0m\u001b[0msamples\u001b[0m\u001b[0;34m)\u001b[0m \u001b[0;34m==\u001b[0m \u001b[0;36m0\u001b[0m\u001b[0;34m:\u001b[0m\u001b[0;34m\u001b[0m\u001b[0;34m\u001b[0m\u001b[0m\n",
      "\u001b[0;32m~/anaconda3/lib/python3.7/site-packages/torchvision/datasets/folder.py\u001b[0m in \u001b[0;36m_find_classes\u001b[0;34m(self, dir)\u001b[0m\n\u001b[1;32m    121\u001b[0m             \u001b[0mNo\u001b[0m \u001b[0;32mclass\u001b[0m \u001b[0;32mis\u001b[0m \u001b[0ma\u001b[0m \u001b[0msubdirectory\u001b[0m \u001b[0mof\u001b[0m \u001b[0manother\u001b[0m\u001b[0;34m.\u001b[0m\u001b[0;34m\u001b[0m\u001b[0;34m\u001b[0m\u001b[0m\n\u001b[1;32m    122\u001b[0m         \"\"\"\n\u001b[0;32m--> 123\u001b[0;31m         \u001b[0mclasses\u001b[0m \u001b[0;34m=\u001b[0m \u001b[0;34m[\u001b[0m\u001b[0md\u001b[0m\u001b[0;34m.\u001b[0m\u001b[0mname\u001b[0m \u001b[0;32mfor\u001b[0m \u001b[0md\u001b[0m \u001b[0;32min\u001b[0m \u001b[0mos\u001b[0m\u001b[0;34m.\u001b[0m\u001b[0mscandir\u001b[0m\u001b[0;34m(\u001b[0m\u001b[0mdir\u001b[0m\u001b[0;34m)\u001b[0m \u001b[0;32mif\u001b[0m \u001b[0md\u001b[0m\u001b[0;34m.\u001b[0m\u001b[0mis_dir\u001b[0m\u001b[0;34m(\u001b[0m\u001b[0;34m)\u001b[0m\u001b[0;34m]\u001b[0m\u001b[0;34m\u001b[0m\u001b[0;34m\u001b[0m\u001b[0m\n\u001b[0m\u001b[1;32m    124\u001b[0m         \u001b[0mclasses\u001b[0m\u001b[0;34m.\u001b[0m\u001b[0msort\u001b[0m\u001b[0;34m(\u001b[0m\u001b[0;34m)\u001b[0m\u001b[0;34m\u001b[0m\u001b[0;34m\u001b[0m\u001b[0m\n\u001b[1;32m    125\u001b[0m         \u001b[0mclass_to_idx\u001b[0m \u001b[0;34m=\u001b[0m \u001b[0;34m{\u001b[0m\u001b[0mcls_name\u001b[0m\u001b[0;34m:\u001b[0m \u001b[0mi\u001b[0m \u001b[0;32mfor\u001b[0m \u001b[0mi\u001b[0m\u001b[0;34m,\u001b[0m \u001b[0mcls_name\u001b[0m \u001b[0;32min\u001b[0m \u001b[0menumerate\u001b[0m\u001b[0;34m(\u001b[0m\u001b[0mclasses\u001b[0m\u001b[0;34m)\u001b[0m\u001b[0;34m}\u001b[0m\u001b[0;34m\u001b[0m\u001b[0;34m\u001b[0m\u001b[0m\n",
      "\u001b[0;31mFileNotFoundError\u001b[0m: [Errno 2] No such file or directory: '../../OhSeHyeon/source/dataset/aug_train'"
     ]
    }
   ],
   "source": [
    "# 이미지 경로, 이미지들 리사이즈 및 텐서형태로 만들기\n",
    "# data_root = \"../../dataset/train\"\n",
    "data_root = \"../../../OhSeHyeon/source/dataset/aug_train\"\n",
    "\n",
    "data_set = dataset.ImageFolder(root = data_root,\n",
    "                           transform = transforms.Compose([\n",
    "                                  #transforms.Resize(img_size),\n",
    "                                  transforms.CenterCrop(img_size),\n",
    "                                  torchvision.transforms.Grayscale(channel),\n",
    "                                  transforms.ToTensor(),\n",
    "                                  transforms.Normalize((0.5,),(0.5,))\n",
    "                              ]))\n",
    "\n",
    "print(\"size of dataset :\", len(data_set))\n",
    "\n",
    "# 배치로 나누고 셔플하기\n",
    "data_loader = torch.utils.data.DataLoader(data_set, batch_size = batch_size,\n",
    "                                         shuffle = True, num_workers = workers, drop_last=True)\n",
    "\n",
    "# Device setting (GPU or CPU)\n",
    "device = torch.device('cuda:0' if torch.cuda.is_available() else 'cpu')\n",
    "print(\"device :\", device)"
   ]
  },
  {
   "cell_type": "markdown",
   "metadata": {},
   "source": [
    "# Model"
   ]
  },
  {
   "cell_type": "code",
   "execution_count": null,
   "metadata": {},
   "outputs": [],
   "source": [
    "# Generative Adversarial Networks Model\n",
    "\n",
    "# === Generator 모델 ===\n",
    "class Generator(nn.Module):\n",
    "    def __init__(self):\n",
    "        super(Generator,self).__init__()\n",
    "        \n",
    "        # Batch Normalization 유무에 따른 G_block 정의\n",
    "        def G_block(in_features, out_features, FIRST=True):\n",
    "            if FIRST:\n",
    "                block = [\n",
    "                    nn.ConvTranspose2d(in_features, out_features, 4, 1, 0, bias=False),\n",
    "                    nn.BatchNorm2d(out_features),\n",
    "                    nn.ReLU()\n",
    "                ]\n",
    "            else:\n",
    "                block = [\n",
    "                    nn.ConvTranspose2d(in_features, out_features, 4, 2, 1, bias=False),\n",
    "                    nn.BatchNorm2d(out_features),\n",
    "                    nn.ReLU()\n",
    "                ]\n",
    "            return block\n",
    "        \n",
    "        \n",
    "        # ======================= 픽셀 분포 생성 layer ======================= \n",
    "        self.G_gen_distribution = nn.Sequential(\n",
    "            # ------ input is latent_size 100 ------ \n",
    "            *G_block(latent_size, img_size*8, FIRST=True),\n",
    "            # ------ state size is 512x4x4 ------ \n",
    "            *G_block(img_size*8, img_size*4, FIRST=False),\n",
    "            # ------ state size is 256x8x8 ------ \n",
    "            *G_block(img_size*4, img_size*2, FIRST=False),\n",
    "            # ------ state size is 128x16x16 ------ \n",
    "            *G_block(img_size*2, img_size, FIRST=False),\n",
    "        )\n",
    "        \n",
    "        # =================== 가짜 이미지 생성 layer =================== \n",
    "        self.G_gen_fake_img = nn.Sequential(\n",
    "            # ------ state size is 64x32x32 ------ \n",
    "            nn.ConvTranspose2d(img_size, 1 , 4, 2, 1, bias=False),\n",
    "            nn.Tanh() # 픽셀값의 범위 : -1 ~ 1로 두기 위해서\n",
    "            # ------ state size is 1x64x64 ------ \n",
    "        )\n",
    "    \n",
    "    def forward(self, input):\n",
    "        distribution = self.G_gen_distribution(input)\n",
    "        fake_img = self.G_gen_fake_img(distribution)\n",
    "        \n",
    "        return fake_img\n",
    "\n",
    "\n",
    "# === Discriminator 모델 ===\n",
    "class Discriminator(nn.Module):\n",
    "    def __init__(self):\n",
    "        super(Discriminator, self).__init__()\n",
    "        \n",
    "        # Batch Normalization 유무에 따른 D_block 정의\n",
    "        def D_block(in_features, out_features, BN=True):\n",
    "            if BN:\n",
    "                block = [\n",
    "                    nn.Conv2d(in_features, out_features, 4, 2, 1, bias=False),\n",
    "                    nn.BatchNorm2d(out_features),\n",
    "                    nn.LeakyReLU(0.2, inplace=True)\n",
    "                ]\n",
    "            else:\n",
    "                block = [\n",
    "                    nn.Conv2d(in_features, out_features, 4, 2, 1, bias=False),\n",
    "                    nn.LeakyReLU(0.2, inplace=True)\n",
    "                ]\n",
    "            return block\n",
    "        \n",
    "        \n",
    "        # ============== Feature 추출 layer ==============\n",
    "        self.D_extract_feature = nn.Sequential(\n",
    "            # ------ input is 1 x 64 x 64 ------ \n",
    "            *D_block(channel, img_size, BN=False),\n",
    "            # ------ state is 64 x 32 x 32 ------ \n",
    "            *D_block(img_size, img_size*2, BN=True),\n",
    "            # ------ state is 128 x 16 x 16 ------ \n",
    "            *D_block(img_size*2, img_size*4, BN=True),\n",
    "            # ------ state is 256 x 8 x 8 ------ \n",
    "            *D_block(img_size*4, img_size*8, BN=True)\n",
    "        )\n",
    "        \n",
    "        # ===================== 이진 분류 layer =====================\n",
    "        self.D_classification = nn.Sequential(        \n",
    "            # ------- state size 512x4x4 ------- \n",
    "            nn.Conv2d(img_size*8, channel, 4, 1, 0, bias=False),\n",
    "            #nn.Linear(fms*8*4*4, 1, bias=False),\n",
    "            nn.Sigmoid()        \n",
    "        )\n",
    "        \n",
    "    def forward(self, input):\n",
    "        feature = self.D_extract_feature(input)\n",
    "        classification = self.D_classification(feature)\n",
    "        \n",
    "        return classification, feature"
   ]
  },
  {
   "cell_type": "markdown",
   "metadata": {},
   "source": [
    "# Loss & Optim"
   ]
  },
  {
   "cell_type": "code",
   "execution_count": null,
   "metadata": {},
   "outputs": [],
   "source": [
    "# G and D 무게 초기화, classname 에 찾는 name가 없다면 -1 ,\n",
    "def weights_init(m):\n",
    "    classname = m.__class__.__name__\n",
    "    if classname.find('Conv') != -1:\n",
    "        nn.init.normal_(m.weight.data, 0.0, 0.02)\n",
    "    elif classname.find('BatchNorm') != -1:\n",
    "        nn.init.normal_(m.weight.data, 0.0, 0.02)\n",
    "        nn.init.constant_(m.bias.data, 0)\n",
    "\n",
    "\n",
    "# D,G 네트워크 모델 객체 선언\n",
    "D = Discriminator().to(device)\n",
    "G = Generator().to(device)\n",
    "\n",
    "# weight initialize/ nn.Module 클래스 안에 apply 함수가 정의되 있음, 각 함수들에 다 적용 하게한다\n",
    "D.apply(weights_init)\n",
    "G.apply(weights_init)\n",
    "\n",
    "# Binary cross entropy loss and optimizer\n",
    "criterion = nn.BCELoss()\n",
    "\n",
    "# latent vector에 배치 사이즈 64를 적용\n",
    "# 학습한 G로 새로운 것 만들어서 결과 확인 할때 사용\n",
    "noise_z = torch.randn(img_size, latent_size, 1, 1, device = device)\n",
    "\n",
    "# D와 G에 대해 두가지 최적화 설정\n",
    "D_optimizer = torch.optim.Adam(D.parameters(), lr = learning_rate, betas=(0.5,0.999))\n",
    "G_optimizer = torch.optim.Adam(G.parameters(), lr = learning_rate, betas=(0.5,0.999))\n",
    "\n",
    "#print(D)\n",
    "#print(G)\n",
    "\n",
    "def reset_grad():\n",
    "    D_optimizer.zero_grad()\n",
    "    G_optimizer.zero_grad()"
   ]
  },
  {
   "cell_type": "markdown",
   "metadata": {},
   "source": [
    "---"
   ]
  },
  {
   "cell_type": "markdown",
   "metadata": {},
   "source": [
    "# Train"
   ]
  },
  {
   "cell_type": "code",
   "execution_count": null,
   "metadata": {},
   "outputs": [],
   "source": [
    "img_list = []\n",
    "G_losses = []\n",
    "D_losses = []\n",
    "iters = 0\n",
    "\n",
    "def train(epoch, learning_G_per_D):\n",
    "    global epochs\n",
    "    global iters\n",
    "    \n",
    "    # 인덱스 0부터 세기 시작\n",
    "    # data[0].size():64x1x64x64(image) / data[1].size():64(label)\n",
    "    for i,data in enumerate(data_loader,0):\n",
    "        \n",
    "        # Train Discriminator\n",
    "        real_img = data[0].to(device) # image size: 64x1x64x64(batch, channel, width, height)\n",
    "        b_size = real_img.size(0) # b_size = 64\n",
    "        real_labels = torch.ones(b_size, 1).to(device)\n",
    "        fake_labels = torch.zeros(b_size, 1).to(device)\n",
    "        \n",
    "        # (--------------------------real-----------------------------)\n",
    "        real_classification, _ = D(real_img) # output = D(x)\n",
    "        real_loss = criterion(real_classification, real_labels) # D(x)=1일 때의 loss\n",
    "        real_score = real_classification\n",
    "        D_x = real_score.mean().item() \n",
    "            \n",
    "        # (--------------------------fake-----------------------------)\n",
    "        z = torch.randn(b_size, latent_size, 1, 1).to(device) # z size :64x100x1x1\n",
    "        fake_img = G(z)\n",
    "        fake_classification, _ = D(fake_img) # output = D(G(z))\n",
    "        fake_loss = criterion(fake_classification, fake_labels) # D(G(z))=0일 때의 loss\n",
    "        fake_score = fake_classification\n",
    "        D_G_z1 = fake_score.mean().item()\n",
    "\n",
    "        # (------------------Backprop and optimize---------------------)\n",
    "        D_loss = real_loss + fake_loss \n",
    "        reset_grad()\n",
    "        D_loss.backward()\n",
    "        D_optimizer.step() # D(x)=1, D(G(z))=0이어야 D가 최적\n",
    "\n",
    "        \n",
    "        # Train Generater\n",
    "        #z = torch.randn(b_size,latent_size,1,1,device=device) # z size :64x100x1x1\n",
    "        for k in range(learning_G_per_D):\n",
    "            fake_img = G(z)\n",
    "            fake_classification, _ = D(fake_img)  # output : D(G(z))\n",
    "            D_G_z2 = fake_classification.mean().item()\n",
    "            G_loss = criterion(fake_classification, real_labels) # D(G(z))=1일 때의 loss=log(D(G(z)))\n",
    "\n",
    "            # (------------------Backprop and optimize---------------------)\n",
    "            reset_grad()\n",
    "            G_loss.backward()\n",
    "            G_optimizer.step() # D(G(z))=1 이어야 G가 최적\n",
    "            # ==> D(G(z))의 값이 0.5로 수렴해야 한다.\n",
    "        \n",
    "        \n",
    "        # print\n",
    "        print('[%d/%d][%d/%d]\\n- D_loss : %.4f / G_loss : %.4f\\n- D(x) : %.4f / D(G(z1)) : %.4f / D(G(z2)) : %.4f' \n",
    "                   %(epoch+1, epochs, i, len(data_loader),D_loss.item(),\n",
    "                     G_loss.item(),D_x,D_G_z1,D_G_z2))\n",
    "        \n",
    "        # Save Losses for plotting later\n",
    "        G_losses.append(G_loss.item())\n",
    "        D_losses.append(D_loss.item())\n",
    "        \n",
    "        #Check how the generator is doing by saving G's output on noise_z\n",
    "        if (iters % 500 == 0) or ((epoch == epochs-1) and (i == len(data_loader)-1)):\n",
    "            with torch.no_grad():\n",
    "                fake = G(noise_z).detach().cpu()\n",
    "            img_list.append(vutils.make_grid(fake, padding=2, normalize=True))\n",
    "            \n",
    "        iters += 1\n",
    "        \n",
    "#torch.save(G.state_dict(), 'G.ckpt')\n",
    "#torch.save(D.state_dict(), 'D.ckpt')"
   ]
  },
  {
   "cell_type": "code",
   "execution_count": null,
   "metadata": {},
   "outputs": [],
   "source": [
    "for epoch in range(epochs):\n",
    "    train(epoch, learning_G_per_D = 10)"
   ]
  },
  {
   "cell_type": "markdown",
   "metadata": {},
   "source": [
    "# Graph"
   ]
  },
  {
   "cell_type": "code",
   "execution_count": null,
   "metadata": {},
   "outputs": [],
   "source": [
    "def plot_train_loss():\n",
    "    plt.figure(figsize=(10,5))\n",
    "    plt.title(\"Generator and Discriminator Loss During Training\")\n",
    "    plt.plot(G_losses, label=\"G\")\n",
    "    plt.plot(D_losses,label=\"D\")\n",
    "    plt.xlabel(\"iterations\")\n",
    "    plt.ylabel(\"Loss\")\n",
    "    plt.legend()\n",
    "    plt.show()"
   ]
  },
  {
   "cell_type": "code",
   "execution_count": null,
   "metadata": {},
   "outputs": [],
   "source": [
    "plot_train_loss()"
   ]
  },
  {
   "cell_type": "markdown",
   "metadata": {},
   "source": [
    "# Animation"
   ]
  },
  {
   "cell_type": "code",
   "execution_count": null,
   "metadata": {},
   "outputs": [],
   "source": [
    "def animate_gen_imgs():\n",
    "    fig = plt.figure(figsize=(8,8))\n",
    "    plt.axis(\"off\")\n",
    "    \n",
    "    ims=[[plt.imshow(np.transpose(i,(1,2,0)), animated=True)] for i in img_list]\n",
    "    ani = animation.ArtistAnimation(fig, ims, interval=1000, repeat_delay=1000, blit=True)\n",
    "    HTML(ani.to_jshtml())"
   ]
  },
  {
   "cell_type": "code",
   "execution_count": null,
   "metadata": {},
   "outputs": [],
   "source": [
    "animate_gen_imgs()"
   ]
  },
  {
   "cell_type": "markdown",
   "metadata": {},
   "source": [
    "# Anomaly Loss"
   ]
  },
  {
   "cell_type": "code",
   "execution_count": null,
   "metadata": {},
   "outputs": [],
   "source": [
    "latent_vector = torch.randn(1, latent_size, 1, 1, device = device, requires_grad=True)\n",
    "\n",
    "def Anomaly_loss(Test_Data, G_Data, Lambda=0.1):\n",
    "    \n",
    "    _, Test_Data_feature =  D(Test_Data)\n",
    "    _, G_Data_feature    =  D(G_Data)\n",
    "    residual_loss        =  torch.sum(torch.abs(Test_Data - G_Data))\n",
    "    discrimination_loss  =  torch.sum(torch.abs(Test_Data_feature - G_Data_feature))\n",
    "    ano_loss             =  (1-Lambda)*residual_loss + Lambda*discrimination_loss\n",
    "    \n",
    "    return ano_loss\n",
    "\n",
    "z_optimizer = torch.optim.Adam([latent_vector],lr=0.01,betas=(0.5, 0.999))\n",
    "\n",
    "\n",
    "test_data_root = \"../../../OhSeHyeon/source/dataset/test/test_Ti64\"\n",
    "test_data_set = dataset.ImageFolder(root = test_data_root,\n",
    "                           transform = transforms.Compose([\n",
    "                                  transforms.Resize(img_size),\n",
    "                                  transforms.CenterCrop(img_size),\n",
    "                                  torchvision.transforms.Grayscale(channel),\n",
    "                                  transforms.ToTensor(),\n",
    "                                  transforms.Normalize((0.5,),(0.5,))\n",
    "                              ]))\n",
    "\n",
    "\n",
    "# 배치로 나누고 셔플하기\n",
    "test_data_loader = torch.utils.data.DataLoader(test_data_set, batch_size = 1,\n",
    "                                              shuffle = False, num_workers = workers)"
   ]
  },
  {
   "cell_type": "markdown",
   "metadata": {},
   "source": [
    "# Train Latent Space Z"
   ]
  },
  {
   "cell_type": "code",
   "execution_count": null,
   "metadata": {},
   "outputs": [],
   "source": [
    "latent_space = []\n",
    "auc=[]\n",
    "\n",
    "def train_latent_space():\n",
    "    global latent_space\n",
    "    global auc\n",
    "    \n",
    "    for i,data in enumerate(test_data_loader,0):\n",
    "        test_img = data[0].to(device)\n",
    "        print(\"picture \", i+1)\n",
    "        for step in range(401):\n",
    "\n",
    "            G_Data   = G(latent_vector)\n",
    "            ano_loss = Anomaly_loss(test_img, G_Data)\n",
    "\n",
    "            z_optimizer.zero_grad()\n",
    "\n",
    "            # residual loss, dicriminator loss 의 그래디언트를 학습 가능한 weight에 독립적으로 반역하기 위해서\n",
    "            # 한쪽 로스를 업데이트하면 그래디언트가 해제되서 \n",
    "            ano_loss.backward(retain_graph = True)\n",
    "\n",
    "            z_optimizer.step()\n",
    "\n",
    "            if step%200 == 0:\n",
    "\n",
    "                loss   = ano_loss.item()\n",
    "                noises = torch.sum(latent_vector).item()\n",
    "                print(\"[%d]\\t Ano_loss : %.4f  Sum_of_z : %.4f\" %(step,loss,noises))\n",
    "                if step==400:\n",
    "                    latent_space.append(latent_vector.cpu().data.numpy())\n",
    "                    if loss>500:\n",
    "                        auc.append(1)\n",
    "                    else :\n",
    "                        auc.append(0)"
   ]
  },
  {
   "cell_type": "code",
   "execution_count": null,
   "metadata": {},
   "outputs": [],
   "source": [
    "train_latent_space()\n",
    "\n",
    "latent_space = np.array(latent_space)\n",
    "latent_space = torch.Tensor(latent_space).to(device)"
   ]
  },
  {
   "cell_type": "markdown",
   "metadata": {},
   "source": [
    "# Similar Z , Ano_Score and Segementation"
   ]
  },
  {
   "cell_type": "code",
   "execution_count": null,
   "metadata": {},
   "outputs": [],
   "source": [
    "def count_el_not_0(diff_img):\n",
    "    count_el_not_0 = 0\n",
    "    \n",
    "    col_size = diff_img.shape[0]\n",
    "    row_size = diff_img.shape[1]\n",
    "    \n",
    "    #print(col_size, row_size)\n",
    "    \n",
    "    for col in range(col_size):\n",
    "        for row in range(row_size):\n",
    "            if diff_img[col][row] != 0:\n",
    "                count_el_not_0 += 1\n",
    "                \n",
    "    return count_el_not_0"
   ]
  },
  {
   "cell_type": "code",
   "execution_count": null,
   "metadata": {},
   "outputs": [],
   "source": [
    "diff_cnts = []\n",
    "\n",
    "def compare_imgs(real_img, generated_img,i, reverse=False, threshold=50):\n",
    "    score = Anomaly_loss(real_img, generated_img)\n",
    "    score = round(score.item(), 2)\n",
    "    \n",
    "    real_img = real_img.cpu().data.numpy().reshape(img_size, img_size) * 255\n",
    "    generated_img = generated_img.cpu().data.numpy().reshape(img_size, img_size) * 255\n",
    "    negative = np.zeros_like(real_img)\n",
    "    \n",
    "    if not reverse:\n",
    "        diff_img = real_img - generated_img\n",
    "    else:\n",
    "        diff_img = generated_img - real_img\n",
    "    diff_img[diff_img <= threshold] = 0\n",
    "    # 분율 추출\n",
    "    diff_cnts.append(count_el_not_0(diff_img))\n",
    "    \n",
    "    \n",
    "    anomaly_img = np.zeros(shape=(img_size, img_size, 3))\n",
    "    anomaly_img[:, :, 0] = real_img - diff_img\n",
    "    anomaly_img[:, :, 1] = real_img - diff_img\n",
    "    anomaly_img[:, :, 2] = real_img - diff_img\n",
    "    anomaly_img[:, :, 0] = anomaly_img[:,:,0] + diff_img\n",
    "    anomaly_img = anomaly_img.astype(np.uint8)\n",
    "    \n",
    "    \n",
    "    fig, plots = plt.subplots(1, 4)\n",
    "    if auc[i] == 0:\n",
    "        fig.suptitle(f'Normal - (anomaly score: {score:.4})')\n",
    "    else :\n",
    "        fig.suptitle(f'Anomaly - (anomaly score: {score:.4})')\n",
    "    \n",
    "    fig.set_figwidth(9)\n",
    "    fig.set_tight_layout(True)\n",
    "    plots = plots.reshape(-1)\n",
    "    plots[0].imshow(real_img, cmap='gray', label = \"real\")\n",
    "    plots[1].imshow(generated_img, cmap='gray')\n",
    "    plots[2].imshow(diff_img, cmap='gray')\n",
    "    plots[3].imshow(anomaly_img)\n",
    "    \n",
    "    plots[0].set_title('real')\n",
    "    plots[1].set_title('generated')\n",
    "    plots[2].set_title('difference')\n",
    "    plots[3].set_title('Anomaly Detection')"
   ]
  },
  {
   "cell_type": "code",
   "execution_count": null,
   "metadata": {},
   "outputs": [],
   "source": [
    "vali_label = [0,0,0,0,0,1,1,1,1,1,1]\n",
    "\n",
    "for i,data in enumerate(test_data_loader,0):\n",
    "    test_img = data[0].to(device)\n",
    "\n",
    "    #for i in range(len(latent_space)):\n",
    "    update_z = latent_space[i]\n",
    "    R_img = test_img\n",
    "    G_img = G(update_z).to(device)\n",
    "    \n",
    "    if i in [9]:\n",
    "        compare_imgs(R_img, G_img,i,reverse = True, threshold = 50)\n",
    "    else:\n",
    "        compare_imgs(R_img, G_img,i,reverse = False, threshold = 50)"
   ]
  },
  {
   "cell_type": "markdown",
   "metadata": {},
   "source": [
    "# AnoGAN 성능 확인: 상대밀도"
   ]
  },
  {
   "cell_type": "code",
   "execution_count": null,
   "metadata": {},
   "outputs": [],
   "source": [
    "Ti64_density = 4.43\n",
    "\n",
    "Ti64_rel_densitys = np.array([])\n",
    "\n",
    "Ti64_rel_densitys = diff_fraction * Ti64_density\n",
    "\n",
    "print(Ti64_rel_densitys)"
   ]
  },
  {
   "cell_type": "code",
   "execution_count": null,
   "metadata": {},
   "outputs": [],
   "source": [
    "# 분율 평균\n",
    "print(sum(Ti64_rel_densitys)/len(Ti64_rel_densitys))"
   ]
  },
  {
   "cell_type": "code",
   "execution_count": null,
   "metadata": {},
   "outputs": [],
   "source": []
  }
 ],
 "metadata": {
  "kernelspec": {
   "display_name": "Python 3",
   "language": "python",
   "name": "python3"
  },
  "language_info": {
   "codemirror_mode": {
    "name": "ipython",
    "version": 3
   },
   "file_extension": ".py",
   "mimetype": "text/x-python",
   "name": "python",
   "nbconvert_exporter": "python",
   "pygments_lexer": "ipython3",
   "version": "3.7.6"
  }
 },
 "nbformat": 4,
 "nbformat_minor": 4
}
