{
 "cells": [
  {
   "cell_type": "markdown",
   "metadata": {},
   "source": [
    "# AnoGAN\n",
    "- 2020.08.11 : Genrator 학습 수 ... 4\n",
    "\n",
    "# 개발일지\n",
    "- 2020.08.14 : 분율 추출 구현\n",
    "- 2020.08.15 : 이상치 상관계수 추출 구현 / 모델 save, load 구현\n",
    "- 2020.08.16 : anomaly detect 이미지 저장 구현 / 티티늄(Ti64) 상대 밀도 계산 구현"
   ]
  },
  {
   "cell_type": "markdown",
   "metadata": {},
   "source": [
    "--- "
   ]
  },
  {
   "cell_type": "markdown",
   "metadata": {},
   "source": [
    "# Module"
   ]
  },
  {
   "cell_type": "code",
   "execution_count": 1,
   "metadata": {},
   "outputs": [],
   "source": [
    "import torch\n",
    "import torch.nn as nn\n",
    "import torchvision\n",
    "from torchvision import transforms\n",
    "from torchvision.utils import save_image\n",
    "import os\n",
    "import numpy as np\n",
    "\n",
    "import torchvision.datasets as dataset\n",
    "import torchvision.transforms as transforms\n",
    "import torchvision.utils as vutils\n",
    "\n",
    "# Graph & Animation\n",
    "import matplotlib.pyplot as plt\n",
    "import matplotlib.animation as animation\n",
    "from IPython.display import HTML"
   ]
  },
  {
   "cell_type": "markdown",
   "metadata": {},
   "source": [
    "# Hyper Parameter"
   ]
  },
  {
   "cell_type": "code",
   "execution_count": 2,
   "metadata": {},
   "outputs": [],
   "source": [
    "latent_size = 100 # z벡터의 잠재공간(latent space)의 크기\n",
    "workers = 4 # 0일때, 약 20% 사용 4일 경우 메모리 100%\n",
    "img_size = 64\n",
    "channel = 1\n",
    "epochs = 100\n",
    "batch_size = 64\n",
    "learning_rate = 2e-1"
   ]
  },
  {
   "cell_type": "markdown",
   "metadata": {},
   "source": [
    "# Data and Device"
   ]
  },
  {
   "cell_type": "code",
   "execution_count": 3,
   "metadata": {},
   "outputs": [
    {
     "name": "stdout",
     "output_type": "stream",
     "text": [
      "size of dataset : 920\n",
      "device : cuda:0\n"
     ]
    }
   ],
   "source": [
    "# 이미지 경로, 이미지들 리사이즈 및 텐서형태로 만들기\n",
    "data_root = \"../../../OhSeHyeon/source/dataset/test\"\n",
    "\n",
    "data_set = dataset.ImageFolder(root = data_root,\n",
    "                           transform = transforms.Compose([\n",
    "                                  #transforms.Resize(img_size),\n",
    "                                  transforms.CenterCrop(img_size),\n",
    "                                  torchvision.transforms.Grayscale(channel),\n",
    "                                  transforms.ToTensor(),\n",
    "                                  transforms.Normalize((0.5,),(0.5,))\n",
    "                              ]))\n",
    "\n",
    "print(\"size of dataset :\", len(data_set))\n",
    "\n",
    "# 배치로 나누고 셔플하기\n",
    "data_loader = torch.utils.data.DataLoader(data_set, batch_size = batch_size,\n",
    "                                         shuffle = True, num_workers = workers, drop_last=True)\n",
    "\n",
    "# Device setting (GPU or CPU)\n",
    "device = torch.device('cuda:0' if torch.cuda.is_available() else 'cpu')\n",
    "print(\"device :\", device)"
   ]
  },
  {
   "cell_type": "markdown",
   "metadata": {},
   "source": [
    "# MODEL"
   ]
  },
  {
   "cell_type": "code",
   "execution_count": 4,
   "metadata": {},
   "outputs": [],
   "source": [
    "# Generative Adversarial Networks Model\n",
    "\n",
    "# === Generator 모델 ===\n",
    "class Generator(nn.Module):\n",
    "    def __init__(self):\n",
    "        super(Generator,self).__init__()\n",
    "        \n",
    "        # Batch Normalization 유무에 따른 G_block 정의\n",
    "        def G_block(in_features, out_features, FIRST=True):\n",
    "            if FIRST:\n",
    "                block = [\n",
    "                    nn.ConvTranspose2d(in_features, out_features, 4, 1, 0, bias=False),\n",
    "                    nn.BatchNorm2d(out_features),\n",
    "                    nn.ReLU()\n",
    "                ]\n",
    "            else:\n",
    "                block = [\n",
    "                    nn.ConvTranspose2d(in_features, out_features, 4, 2, 1, bias=False),\n",
    "                    nn.BatchNorm2d(out_features),\n",
    "                    nn.ReLU()\n",
    "                ]\n",
    "            return block\n",
    "        \n",
    "        \n",
    "        # ======================= 픽셀 분포 생성 layer ======================= \n",
    "        self.G_gen_distribution = nn.Sequential(\n",
    "            # ------ input is latent_size 100 ------ \n",
    "            *G_block(latent_size, img_size*8, FIRST=True),\n",
    "            # ------ state size is 512x4x4 ------ \n",
    "            *G_block(img_size*8, img_size*4, FIRST=False),\n",
    "            # ------ state size is 256x8x8 ------ \n",
    "            *G_block(img_size*4, img_size*2, FIRST=False),\n",
    "            # ------ state size is 128x16x16 ------ \n",
    "            *G_block(img_size*2, img_size, FIRST=False),\n",
    "        )\n",
    "        \n",
    "        # =================== 가짜 이미지 생성 layer =================== \n",
    "        self.G_gen_fake_img = nn.Sequential(\n",
    "            # ------ state size is 64x32x32 ------ \n",
    "            nn.ConvTranspose2d(img_size, 1 , 4, 2, 1, bias=False),\n",
    "            nn.Tanh() # 픽셀값의 범위 : -1 ~ 1로 두기 위해서\n",
    "            # ------ state size is 1x64x64 ------ \n",
    "        )\n",
    "    \n",
    "    def forward(self, input):\n",
    "        distribution = self.G_gen_distribution(input)\n",
    "        fake_img = self.G_gen_fake_img(distribution)\n",
    "        \n",
    "        return fake_img\n",
    "\n",
    "\n",
    "# === Discriminator 모델 ===\n",
    "class Discriminator(nn.Module):\n",
    "    def __init__(self):\n",
    "        super(Discriminator, self).__init__()\n",
    "        \n",
    "        # Batch Normalization 유무에 따른 D_block 정의\n",
    "        def D_block(in_features, out_features, BN=True):\n",
    "            if BN:\n",
    "                block = [\n",
    "                    nn.Conv2d(in_features, out_features, 4, 2, 1, bias=False),\n",
    "                    nn.BatchNorm2d(out_features),\n",
    "                    nn.LeakyReLU(0.2, inplace=True)\n",
    "                ]\n",
    "            else:\n",
    "                block = [\n",
    "                    nn.Conv2d(in_features, out_features, 4, 2, 1, bias=False),\n",
    "                    nn.LeakyReLU(0.2, inplace=True)\n",
    "                ]\n",
    "            return block\n",
    "        \n",
    "        \n",
    "        # ============== Feature 추출 layer ==============\n",
    "        self.D_extract_feature = nn.Sequential(\n",
    "            # ------ input is 1 x 64 x 64 ------ \n",
    "            *D_block(channel, img_size, BN=False),\n",
    "            # ------ state is 64 x 32 x 32 ------ \n",
    "            *D_block(img_size, img_size*2, BN=True),\n",
    "            # ------ state is 128 x 16 x 16 ------ \n",
    "            *D_block(img_size*2, img_size*4, BN=True),\n",
    "            # ------ state is 256 x 8 x 8 ------ \n",
    "            *D_block(img_size*4, img_size*8, BN=True)\n",
    "        )\n",
    "        \n",
    "        # ===================== 이진 분류 layer =====================\n",
    "        self.D_classification = nn.Sequential(        \n",
    "            # ------- state size 512x4x4 ------- \n",
    "            nn.Conv2d(img_size*8, channel, 4, 1, 0, bias=False),\n",
    "            #nn.Linear(fms*8*4*4, 1, bias=False),\n",
    "            nn.Sigmoid()        \n",
    "        )\n",
    "        \n",
    "    def forward(self, input):\n",
    "        feature = self.D_extract_feature(input)\n",
    "        classification = self.D_classification(feature)\n",
    "        \n",
    "        return classification, feature"
   ]
  },
  {
   "cell_type": "markdown",
   "metadata": {},
   "source": [
    "# Loss & Optim"
   ]
  },
  {
   "cell_type": "code",
   "execution_count": 5,
   "metadata": {},
   "outputs": [],
   "source": [
    "# G and D 무게 초기화, classname 에 찾는 name가 없다면 -1 ,\n",
    "def weights_init(m):\n",
    "    classname = m.__class__.__name__\n",
    "    if classname.find('Conv') != -1:\n",
    "        nn.init.normal_(m.weight.data, 0.0, 0.02)\n",
    "    elif classname.find('BatchNorm') != -1:\n",
    "        nn.init.normal_(m.weight.data, 0.0, 0.02)\n",
    "        nn.init.constant_(m.bias.data, 0)\n",
    "\n",
    "\n",
    "# D,G 네트워크 모델 객체 선언\n",
    "D = Discriminator().to(device)\n",
    "G = Generator().to(device)\n",
    "\n",
    "# weight initialize/ nn.Module 클래스 안에 apply 함수가 정의되 있음, 각 함수들에 다 적용 하게한다\n",
    "D.apply(weights_init)\n",
    "G.apply(weights_init)\n",
    "\n",
    "# Binary cross entropy loss and optimizer\n",
    "criterion = nn.BCELoss()\n",
    "\n",
    "# latent vector에 배치 사이즈 64를 적용\n",
    "# 학습한 G로 새로운 것 만들어서 결과 확인 할때 사용\n",
    "noise_z = torch.randn(img_size, latent_size, 1, 1, device = device)\n",
    "\n",
    "# D와 G에 대해 두가지 최적화 설정\n",
    "D_optimizer = torch.optim.Adam(D.parameters(), lr = learning_rate, betas=(0.5,0.999))\n",
    "G_optimizer = torch.optim.Adam(G.parameters(), lr = learning_rate, betas=(0.5,0.999))\n",
    "\n",
    "#print(D)\n",
    "#print(G)\n",
    "\n",
    "def reset_grad():\n",
    "    D_optimizer.zero_grad()\n",
    "    G_optimizer.zero_grad()"
   ]
  },
  {
   "cell_type": "markdown",
   "metadata": {},
   "source": [
    "---"
   ]
  },
  {
   "cell_type": "markdown",
   "metadata": {},
   "source": [
    "# Train DCGAN"
   ]
  },
  {
   "cell_type": "code",
   "execution_count": 6,
   "metadata": {},
   "outputs": [],
   "source": [
    "img_list = []\n",
    "G_losses = []\n",
    "D_losses = []\n",
    "iters = 0\n",
    "\n",
    "def train(epoch, learning_G_per_D):\n",
    "    global epochs\n",
    "    global iters\n",
    "    \n",
    "    # 인덱스 0부터 세기 시작\n",
    "    # data[0].size():64x1x64x64(image) / data[1].size():64(label)\n",
    "    for i,data in enumerate(data_loader,0):\n",
    "        \n",
    "        # Train Discriminator\n",
    "        real_img = data[0].to(device) # image size: 64x1x64x64(batch, channel, width, height)\n",
    "        b_size = real_img.size(0) # b_size = 64\n",
    "        real_labels = torch.ones(b_size, 1).to(device)\n",
    "        fake_labels = torch.zeros(b_size, 1).to(device)\n",
    "        \n",
    "        # (--------------------------real-----------------------------)\n",
    "        real_classification, _ = D(real_img) # output = D(x)\n",
    "        real_loss = criterion(real_classification, real_labels) # D(x)=1일 때의 loss\n",
    "        real_score = real_classification\n",
    "        D_x = real_score.mean().item() \n",
    "            \n",
    "        # (--------------------------fake-----------------------------)\n",
    "        z = torch.randn(b_size, latent_size, 1, 1).to(device) # z size :64x100x1x1\n",
    "        fake_img = G(z)\n",
    "        fake_classification, _ = D(fake_img) # output = D(G(z))\n",
    "        fake_loss = criterion(fake_classification, fake_labels) # D(G(z))=0일 때의 loss\n",
    "        fake_score = fake_classification\n",
    "        D_G_z1 = fake_score.mean().item()\n",
    "\n",
    "        # (------------------Backprop and optimize---------------------)\n",
    "        D_loss = real_loss + fake_loss \n",
    "        reset_grad()\n",
    "        D_loss.backward()\n",
    "        D_optimizer.step() # D(x)=1, D(G(z))=0이어야 D가 최적\n",
    "\n",
    "        \n",
    "        # Train Generater\n",
    "        #z = torch.randn(b_size,latent_size,1,1,device=device) # z size :64x100x1x1\n",
    "        for k in range(learning_G_per_D):\n",
    "            fake_img = G(z)\n",
    "            fake_classification, _ = D(fake_img)  # output : D(G(z))\n",
    "            D_G_z2 = fake_classification.mean().item()\n",
    "            G_loss = criterion(fake_classification, real_labels) # D(G(z))=1일 때의 loss=log(D(G(z)))\n",
    "\n",
    "            # (------------------Backprop and optimize---------------------)\n",
    "            reset_grad()\n",
    "            G_loss.backward()\n",
    "            G_optimizer.step() # D(G(z))=1 이어야 G가 최적\n",
    "            # ==> D(G(z))의 값이 0.5로 수렴해야 한다.\n",
    "        \n",
    "        \n",
    "        # print\n",
    "        print('[%d/%d][%d/%d]\\n- D_loss : %.4f / G_loss : %.4f\\n- D(x) : %.4f / D(G(z1)) : %.4f / D(G(z2)) : %.4f' \n",
    "                   %(epoch+1, epochs, i, len(data_loader),D_loss.item(),\n",
    "                     G_loss.item(),D_x,D_G_z1,D_G_z2))\n",
    "        \n",
    "        # Save Losses for plotting later\n",
    "        G_losses.append(G_loss.item())\n",
    "        D_losses.append(D_loss.item())\n",
    "        \n",
    "        #Check how the generator is doing by saving G's output on noise_z\n",
    "        if (iters % 500 == 0) or ((epoch == epochs-1) and (i == len(data_loader)-1)):\n",
    "            with torch.no_grad():\n",
    "                fake = G(noise_z).detach().cpu()\n",
    "            img_list.append(vutils.make_grid(fake, padding=2, normalize=True))\n",
    "            \n",
    "        iters += 1\n",
    "        \n",
    "#torch.save(G.state_dict(), 'G.ckpt')\n",
    "#torch.save(D.state_dict(), 'D.ckpt')"
   ]
  },
  {
   "cell_type": "code",
   "execution_count": 7,
   "metadata": {},
   "outputs": [
    {
     "name": "stderr",
     "output_type": "stream",
     "text": [
      "/home/piai/anaconda3/lib/python3.7/site-packages/torch/nn/modules/loss.py:529: UserWarning: Using a target size (torch.Size([64, 1])) that is different to the input size (torch.Size([64, 1, 1, 1])) is deprecated. Please ensure they have the same size.\n",
      "  return F.binary_cross_entropy(input, target, weight=self.weight, reduction=self.reduction)\n"
     ]
    },
    {
     "name": "stdout",
     "output_type": "stream",
     "text": [
      "[1/100][0/14]\n",
      "- D_loss : 1.3898 / G_loss : 0.0000\n",
      "- D(x) : 0.4986 / D(G(z1)) : 0.5003 / D(G(z2)) : 1.0000\n",
      "[1/100][1/14]\n",
      "- D_loss : 100.0000 / G_loss : 0.0000\n",
      "- D(x) : 1.0000 / D(G(z1)) : 1.0000 / D(G(z2)) : 1.0000\n",
      "[1/100][2/14]\n",
      "- D_loss : 100.0000 / G_loss : 0.0000\n",
      "- D(x) : 1.0000 / D(G(z1)) : 1.0000 / D(G(z2)) : 1.0000\n",
      "[1/100][3/14]\n",
      "- D_loss : 100.0000 / G_loss : 0.0000\n",
      "- D(x) : 1.0000 / D(G(z1)) : 1.0000 / D(G(z2)) : 1.0000\n",
      "[1/100][4/14]\n",
      "- D_loss : 100.0000 / G_loss : 0.0000\n",
      "- D(x) : 1.0000 / D(G(z1)) : 1.0000 / D(G(z2)) : 1.0000\n",
      "[1/100][5/14]\n",
      "- D_loss : 100.0000 / G_loss : 0.0000\n",
      "- D(x) : 1.0000 / D(G(z1)) : 1.0000 / D(G(z2)) : 1.0000\n",
      "[1/100][6/14]\n",
      "- D_loss : 100.0000 / G_loss : 0.0000\n",
      "- D(x) : 1.0000 / D(G(z1)) : 1.0000 / D(G(z2)) : 1.0000\n",
      "[1/100][7/14]\n",
      "- D_loss : 100.0000 / G_loss : 0.0000\n",
      "- D(x) : 1.0000 / D(G(z1)) : 1.0000 / D(G(z2)) : 1.0000\n",
      "[1/100][8/14]\n",
      "- D_loss : 100.0000 / G_loss : 0.0000\n",
      "- D(x) : 1.0000 / D(G(z1)) : 1.0000 / D(G(z2)) : 1.0000\n",
      "[1/100][9/14]\n",
      "- D_loss : 100.0000 / G_loss : 0.0000\n",
      "- D(x) : 1.0000 / D(G(z1)) : 1.0000 / D(G(z2)) : 1.0000\n",
      "[1/100][10/14]\n",
      "- D_loss : 100.0000 / G_loss : 0.0000\n",
      "- D(x) : 1.0000 / D(G(z1)) : 1.0000 / D(G(z2)) : 1.0000\n",
      "[1/100][11/14]\n",
      "- D_loss : 100.0000 / G_loss : 0.0000\n",
      "- D(x) : 1.0000 / D(G(z1)) : 1.0000 / D(G(z2)) : 1.0000\n",
      "[1/100][12/14]\n",
      "- D_loss : 100.0000 / G_loss : 0.0000\n",
      "- D(x) : 1.0000 / D(G(z1)) : 1.0000 / D(G(z2)) : 1.0000\n",
      "[1/100][13/14]\n",
      "- D_loss : 100.0000 / G_loss : 0.0000\n",
      "- D(x) : 1.0000 / D(G(z1)) : 1.0000 / D(G(z2)) : 1.0000\n",
      "[2/100][0/14]\n",
      "- D_loss : 100.0000 / G_loss : 0.0000\n",
      "- D(x) : 1.0000 / D(G(z1)) : 1.0000 / D(G(z2)) : 1.0000\n",
      "[2/100][1/14]\n",
      "- D_loss : 100.0000 / G_loss : 0.0000\n",
      "- D(x) : 1.0000 / D(G(z1)) : 1.0000 / D(G(z2)) : 1.0000\n",
      "[2/100][2/14]\n",
      "- D_loss : 100.0000 / G_loss : 0.0000\n",
      "- D(x) : 1.0000 / D(G(z1)) : 1.0000 / D(G(z2)) : 1.0000\n",
      "[2/100][3/14]\n",
      "- D_loss : 100.0000 / G_loss : 0.0000\n",
      "- D(x) : 1.0000 / D(G(z1)) : 1.0000 / D(G(z2)) : 1.0000\n",
      "[2/100][4/14]\n",
      "- D_loss : 100.0000 / G_loss : 0.0000\n",
      "- D(x) : 1.0000 / D(G(z1)) : 1.0000 / D(G(z2)) : 1.0000\n",
      "[2/100][5/14]\n",
      "- D_loss : 100.0000 / G_loss : 0.0000\n",
      "- D(x) : 1.0000 / D(G(z1)) : 1.0000 / D(G(z2)) : 1.0000\n",
      "[2/100][6/14]\n",
      "- D_loss : 100.0000 / G_loss : 0.0000\n",
      "- D(x) : 1.0000 / D(G(z1)) : 1.0000 / D(G(z2)) : 1.0000\n",
      "[2/100][7/14]\n",
      "- D_loss : 100.0000 / G_loss : 0.0000\n",
      "- D(x) : 1.0000 / D(G(z1)) : 1.0000 / D(G(z2)) : 1.0000\n",
      "[2/100][8/14]\n",
      "- D_loss : 100.0000 / G_loss : 0.0000\n",
      "- D(x) : 1.0000 / D(G(z1)) : 1.0000 / D(G(z2)) : 1.0000\n",
      "[2/100][9/14]\n",
      "- D_loss : 100.0000 / G_loss : 0.0000\n",
      "- D(x) : 1.0000 / D(G(z1)) : 1.0000 / D(G(z2)) : 1.0000\n",
      "[2/100][10/14]\n",
      "- D_loss : 100.0000 / G_loss : 0.0000\n",
      "- D(x) : 1.0000 / D(G(z1)) : 1.0000 / D(G(z2)) : 1.0000\n",
      "[2/100][11/14]\n",
      "- D_loss : 100.0000 / G_loss : 0.0000\n",
      "- D(x) : 1.0000 / D(G(z1)) : 1.0000 / D(G(z2)) : 1.0000\n",
      "[2/100][12/14]\n",
      "- D_loss : 100.0000 / G_loss : 0.0000\n",
      "- D(x) : 1.0000 / D(G(z1)) : 1.0000 / D(G(z2)) : 1.0000\n",
      "[2/100][13/14]\n",
      "- D_loss : 100.0000 / G_loss : 0.0000\n",
      "- D(x) : 1.0000 / D(G(z1)) : 1.0000 / D(G(z2)) : 1.0000\n",
      "[3/100][0/14]\n",
      "- D_loss : 100.0000 / G_loss : 0.0000\n",
      "- D(x) : 1.0000 / D(G(z1)) : 1.0000 / D(G(z2)) : 1.0000\n",
      "[3/100][1/14]\n",
      "- D_loss : 100.0000 / G_loss : 0.0000\n",
      "- D(x) : 1.0000 / D(G(z1)) : 1.0000 / D(G(z2)) : 1.0000\n",
      "[3/100][2/14]\n",
      "- D_loss : 100.0000 / G_loss : 0.0000\n",
      "- D(x) : 1.0000 / D(G(z1)) : 1.0000 / D(G(z2)) : 1.0000\n",
      "[3/100][3/14]\n",
      "- D_loss : 100.0000 / G_loss : 0.0000\n",
      "- D(x) : 1.0000 / D(G(z1)) : 1.0000 / D(G(z2)) : 1.0000\n",
      "[3/100][4/14]\n",
      "- D_loss : 100.0000 / G_loss : 0.0000\n",
      "- D(x) : 1.0000 / D(G(z1)) : 1.0000 / D(G(z2)) : 1.0000\n",
      "[3/100][5/14]\n",
      "- D_loss : 100.0000 / G_loss : 0.0000\n",
      "- D(x) : 1.0000 / D(G(z1)) : 1.0000 / D(G(z2)) : 1.0000\n",
      "[3/100][6/14]\n",
      "- D_loss : 100.0000 / G_loss : 0.0000\n",
      "- D(x) : 1.0000 / D(G(z1)) : 1.0000 / D(G(z2)) : 1.0000\n",
      "[3/100][7/14]\n",
      "- D_loss : 100.0000 / G_loss : 0.0000\n",
      "- D(x) : 1.0000 / D(G(z1)) : 1.0000 / D(G(z2)) : 1.0000\n",
      "[3/100][8/14]\n",
      "- D_loss : 100.0000 / G_loss : 0.0000\n",
      "- D(x) : 1.0000 / D(G(z1)) : 1.0000 / D(G(z2)) : 1.0000\n",
      "[3/100][9/14]\n",
      "- D_loss : 100.0000 / G_loss : 0.0000\n",
      "- D(x) : 1.0000 / D(G(z1)) : 1.0000 / D(G(z2)) : 1.0000\n",
      "[3/100][10/14]\n",
      "- D_loss : 100.0000 / G_loss : 0.0000\n",
      "- D(x) : 1.0000 / D(G(z1)) : 1.0000 / D(G(z2)) : 1.0000\n",
      "[3/100][11/14]\n",
      "- D_loss : 100.0000 / G_loss : 0.0000\n",
      "- D(x) : 1.0000 / D(G(z1)) : 1.0000 / D(G(z2)) : 1.0000\n",
      "[3/100][12/14]\n",
      "- D_loss : 100.0000 / G_loss : 0.0000\n",
      "- D(x) : 1.0000 / D(G(z1)) : 1.0000 / D(G(z2)) : 1.0000\n",
      "[3/100][13/14]\n",
      "- D_loss : 100.0000 / G_loss : 0.0000\n",
      "- D(x) : 1.0000 / D(G(z1)) : 1.0000 / D(G(z2)) : 1.0000\n"
     ]
    },
    {
     "ename": "KeyboardInterrupt",
     "evalue": "",
     "output_type": "error",
     "traceback": [
      "\u001b[0;31m---------------------------------------------------------------------------\u001b[0m",
      "\u001b[0;31mKeyboardInterrupt\u001b[0m                         Traceback (most recent call last)",
      "\u001b[0;32m<ipython-input-7-ea6bebaaeb53>\u001b[0m in \u001b[0;36m<module>\u001b[0;34m\u001b[0m\n\u001b[1;32m      1\u001b[0m \u001b[0;32mfor\u001b[0m \u001b[0mepoch\u001b[0m \u001b[0;32min\u001b[0m \u001b[0mrange\u001b[0m\u001b[0;34m(\u001b[0m\u001b[0mepochs\u001b[0m\u001b[0;34m)\u001b[0m\u001b[0;34m:\u001b[0m\u001b[0;34m\u001b[0m\u001b[0;34m\u001b[0m\u001b[0m\n\u001b[0;32m----> 2\u001b[0;31m     \u001b[0mtrain\u001b[0m\u001b[0;34m(\u001b[0m\u001b[0mepoch\u001b[0m\u001b[0;34m,\u001b[0m \u001b[0mlearning_G_per_D\u001b[0m \u001b[0;34m=\u001b[0m \u001b[0;36m20\u001b[0m\u001b[0;34m)\u001b[0m\u001b[0;34m\u001b[0m\u001b[0;34m\u001b[0m\u001b[0m\n\u001b[0m",
      "\u001b[0;32m<ipython-input-6-2fd2ed188058>\u001b[0m in \u001b[0;36mtrain\u001b[0;34m(epoch, learning_G_per_D)\u001b[0m\n\u001b[1;32m     50\u001b[0m             \u001b[0mreset_grad\u001b[0m\u001b[0;34m(\u001b[0m\u001b[0;34m)\u001b[0m\u001b[0;34m\u001b[0m\u001b[0;34m\u001b[0m\u001b[0m\n\u001b[1;32m     51\u001b[0m             \u001b[0mG_loss\u001b[0m\u001b[0;34m.\u001b[0m\u001b[0mbackward\u001b[0m\u001b[0;34m(\u001b[0m\u001b[0;34m)\u001b[0m\u001b[0;34m\u001b[0m\u001b[0;34m\u001b[0m\u001b[0m\n\u001b[0;32m---> 52\u001b[0;31m             \u001b[0mG_optimizer\u001b[0m\u001b[0;34m.\u001b[0m\u001b[0mstep\u001b[0m\u001b[0;34m(\u001b[0m\u001b[0;34m)\u001b[0m \u001b[0;31m# D(G(z))=1 이어야 G가 최적\u001b[0m\u001b[0;34m\u001b[0m\u001b[0;34m\u001b[0m\u001b[0m\n\u001b[0m\u001b[1;32m     53\u001b[0m             \u001b[0;31m# ==> D(G(z))의 값이 0.5로 수렴해야 한다.\u001b[0m\u001b[0;34m\u001b[0m\u001b[0;34m\u001b[0m\u001b[0;34m\u001b[0m\u001b[0m\n\u001b[1;32m     54\u001b[0m \u001b[0;34m\u001b[0m\u001b[0m\n",
      "\u001b[0;32m~/anaconda3/lib/python3.7/site-packages/torch/autograd/grad_mode.py\u001b[0m in \u001b[0;36mdecorate_context\u001b[0;34m(*args, **kwargs)\u001b[0m\n\u001b[1;32m     13\u001b[0m         \u001b[0;32mdef\u001b[0m \u001b[0mdecorate_context\u001b[0m\u001b[0;34m(\u001b[0m\u001b[0;34m*\u001b[0m\u001b[0margs\u001b[0m\u001b[0;34m,\u001b[0m \u001b[0;34m**\u001b[0m\u001b[0mkwargs\u001b[0m\u001b[0;34m)\u001b[0m\u001b[0;34m:\u001b[0m\u001b[0;34m\u001b[0m\u001b[0;34m\u001b[0m\u001b[0m\n\u001b[1;32m     14\u001b[0m             \u001b[0;32mwith\u001b[0m \u001b[0mself\u001b[0m\u001b[0;34m:\u001b[0m\u001b[0;34m\u001b[0m\u001b[0;34m\u001b[0m\u001b[0m\n\u001b[0;32m---> 15\u001b[0;31m                 \u001b[0;32mreturn\u001b[0m \u001b[0mfunc\u001b[0m\u001b[0;34m(\u001b[0m\u001b[0;34m*\u001b[0m\u001b[0margs\u001b[0m\u001b[0;34m,\u001b[0m \u001b[0;34m**\u001b[0m\u001b[0mkwargs\u001b[0m\u001b[0;34m)\u001b[0m\u001b[0;34m\u001b[0m\u001b[0;34m\u001b[0m\u001b[0m\n\u001b[0m\u001b[1;32m     16\u001b[0m         \u001b[0;32mreturn\u001b[0m \u001b[0mdecorate_context\u001b[0m\u001b[0;34m\u001b[0m\u001b[0;34m\u001b[0m\u001b[0m\n\u001b[1;32m     17\u001b[0m \u001b[0;34m\u001b[0m\u001b[0m\n",
      "\u001b[0;32m~/anaconda3/lib/python3.7/site-packages/torch/optim/adam.py\u001b[0m in \u001b[0;36mstep\u001b[0;34m(self, closure)\u001b[0m\n\u001b[1;32m    105\u001b[0m                     \u001b[0mdenom\u001b[0m \u001b[0;34m=\u001b[0m \u001b[0;34m(\u001b[0m\u001b[0mmax_exp_avg_sq\u001b[0m\u001b[0;34m.\u001b[0m\u001b[0msqrt\u001b[0m\u001b[0;34m(\u001b[0m\u001b[0;34m)\u001b[0m \u001b[0;34m/\u001b[0m \u001b[0mmath\u001b[0m\u001b[0;34m.\u001b[0m\u001b[0msqrt\u001b[0m\u001b[0;34m(\u001b[0m\u001b[0mbias_correction2\u001b[0m\u001b[0;34m)\u001b[0m\u001b[0;34m)\u001b[0m\u001b[0;34m.\u001b[0m\u001b[0madd_\u001b[0m\u001b[0;34m(\u001b[0m\u001b[0mgroup\u001b[0m\u001b[0;34m[\u001b[0m\u001b[0;34m'eps'\u001b[0m\u001b[0;34m]\u001b[0m\u001b[0;34m)\u001b[0m\u001b[0;34m\u001b[0m\u001b[0;34m\u001b[0m\u001b[0m\n\u001b[1;32m    106\u001b[0m                 \u001b[0;32melse\u001b[0m\u001b[0;34m:\u001b[0m\u001b[0;34m\u001b[0m\u001b[0;34m\u001b[0m\u001b[0m\n\u001b[0;32m--> 107\u001b[0;31m                     \u001b[0mdenom\u001b[0m \u001b[0;34m=\u001b[0m \u001b[0;34m(\u001b[0m\u001b[0mexp_avg_sq\u001b[0m\u001b[0;34m.\u001b[0m\u001b[0msqrt\u001b[0m\u001b[0;34m(\u001b[0m\u001b[0;34m)\u001b[0m \u001b[0;34m/\u001b[0m \u001b[0mmath\u001b[0m\u001b[0;34m.\u001b[0m\u001b[0msqrt\u001b[0m\u001b[0;34m(\u001b[0m\u001b[0mbias_correction2\u001b[0m\u001b[0;34m)\u001b[0m\u001b[0;34m)\u001b[0m\u001b[0;34m.\u001b[0m\u001b[0madd_\u001b[0m\u001b[0;34m(\u001b[0m\u001b[0mgroup\u001b[0m\u001b[0;34m[\u001b[0m\u001b[0;34m'eps'\u001b[0m\u001b[0;34m]\u001b[0m\u001b[0;34m)\u001b[0m\u001b[0;34m\u001b[0m\u001b[0;34m\u001b[0m\u001b[0m\n\u001b[0m\u001b[1;32m    108\u001b[0m \u001b[0;34m\u001b[0m\u001b[0m\n\u001b[1;32m    109\u001b[0m                 \u001b[0mstep_size\u001b[0m \u001b[0;34m=\u001b[0m \u001b[0mgroup\u001b[0m\u001b[0;34m[\u001b[0m\u001b[0;34m'lr'\u001b[0m\u001b[0;34m]\u001b[0m \u001b[0;34m/\u001b[0m \u001b[0mbias_correction1\u001b[0m\u001b[0;34m\u001b[0m\u001b[0;34m\u001b[0m\u001b[0m\n",
      "\u001b[0;31mKeyboardInterrupt\u001b[0m: "
     ]
    }
   ],
   "source": [
    "for epoch in range(epochs):\n",
    "    train(epoch, learning_G_per_D = 20)"
   ]
  },
  {
   "cell_type": "markdown",
   "metadata": {},
   "source": [
    "# Graph"
   ]
  },
  {
   "cell_type": "code",
   "execution_count": null,
   "metadata": {},
   "outputs": [],
   "source": [
    "def plot_train_loss():\n",
    "    plt.figure(figsize=(10,5))\n",
    "    plt.title(\"Generator and Discriminator Loss During Training\")\n",
    "    plt.plot(G_losses, label=\"G\")\n",
    "    plt.plot(D_losses,label=\"D\")\n",
    "    plt.xlabel(\"iterations\")\n",
    "    plt.ylabel(\"Loss\")\n",
    "    plt.legend()\n",
    "    plt.show()"
   ]
  },
  {
   "cell_type": "code",
   "execution_count": null,
   "metadata": {},
   "outputs": [],
   "source": [
    "plot_train_loss()"
   ]
  },
  {
   "cell_type": "markdown",
   "metadata": {},
   "source": [
    "# Animation"
   ]
  },
  {
   "cell_type": "code",
   "execution_count": null,
   "metadata": {},
   "outputs": [],
   "source": [
    "def animate_gen_imgs():\n",
    "    fig = plt.figure(figsize=(8,8))\n",
    "    plt.axis(\"off\")\n",
    "    \n",
    "    ims = [[plt.imshow(np.transpose(i,(1,2,0)), animated=True)] for i in img_list]\n",
    "    ani = animation.ArtistAnimation(fig, ims, interval=1000, repeat_delay=1000, blit=True)\n",
    "    HTML(ani.to_jshtml())"
   ]
  },
  {
   "cell_type": "code",
   "execution_count": null,
   "metadata": {},
   "outputs": [],
   "source": [
    "animate_gen_imgs()"
   ]
  },
  {
   "cell_type": "markdown",
   "metadata": {},
   "source": [
    "# Anomaly Loss"
   ]
  },
  {
   "cell_type": "code",
   "execution_count": null,
   "metadata": {},
   "outputs": [],
   "source": [
    "latent_vector = torch.randn(1, latent_size, 1, 1, device = device, requires_grad=True)\n",
    "\n",
    "def Anomaly_loss(Test_Data, G_Data, Lambda=0.1):\n",
    "    _, Test_Data_feature = D(Test_Data)\n",
    "    _, G_Data_feature = D(G_Data)\n",
    "    residual_loss = torch.sum(torch.abs(Test_Data - G_Data))\n",
    "    discrimination_loss = torch.sum(torch.abs(Test_Data_feature - G_Data_feature))\n",
    "    ano_loss = (1-Lambda)*residual_loss + Lambda*discrimination_loss\n",
    "    \n",
    "    return ano_loss\n",
    "\n",
    "z_optimizer = torch.optim.Adam([latent_vector],lr=0.01,betas=(0.5, 0.999))\n",
    "\n",
    "\n",
    "test_data_root = \"../../../OhSeHyeon/source/dataset/test/test_DualPhaseSteel\"\n",
    "test_data_set = dataset.ImageFolder(root = test_data_root,\n",
    "                           transform = transforms.Compose([\n",
    "                                  transforms.Resize(img_size),\n",
    "                                  transforms.CenterCrop(img_size),\n",
    "                                  torchvision.transforms.Grayscale(channel),\n",
    "                                  transforms.ToTensor(),\n",
    "                                  transforms.Normalize((0.5,),(0.5,))\n",
    "                              ]))\n",
    "\n",
    "\n",
    "# 배치로 나누고 셔플하기\n",
    "test_data_loader = torch.utils.data.DataLoader(test_data_set, batch_size = 1,\n",
    "                                              shuffle = False, num_workers = workers)"
   ]
  },
  {
   "cell_type": "markdown",
   "metadata": {},
   "source": [
    "# Train Latent Space Z"
   ]
  },
  {
   "cell_type": "code",
   "execution_count": null,
   "metadata": {},
   "outputs": [],
   "source": [
    "latent_space = []\n",
    "auc=[]\n",
    "\n",
    "def train_latent_space():\n",
    "    \n",
    "    for i,data in enumerate(test_data_loader,0):\n",
    "        test_img = data[0].to(device)\n",
    "        print(\"picture \", i+1)\n",
    "        for step in range(401):\n",
    "\n",
    "            G_Data = G(latent_vector)\n",
    "            ano_loss = Anomaly_loss(test_img, G_Data)\n",
    "\n",
    "            z_optimizer.zero_grad()\n",
    "\n",
    "            # residual loss, dicriminator loss 의 그래디언트를 학습 가능한 weight에 독립적으로 반역하기 위해서\n",
    "            # 한쪽 로스를 업데이트하면 그래디언트가 해제되서 \n",
    "            ano_loss.backward(retain_graph = True)\n",
    "\n",
    "            z_optimizer.step()\n",
    "\n",
    "            if step%200 == 0:\n",
    "\n",
    "                loss   = ano_loss.item()\n",
    "                noises = torch.sum(latent_vector).item()\n",
    "                print(\"[%d]\\t Ano_loss : %.4f  Sum_of_z : %.4f\" %(step,loss,noises))\n",
    "                if step == 400:\n",
    "                    latent_space.append(latent_vector.cpu().data.numpy())\n",
    "                    if loss > 500:\n",
    "                        auc.append(1)\n",
    "                    else :\n",
    "                        auc.append(0)"
   ]
  },
  {
   "cell_type": "code",
   "execution_count": null,
   "metadata": {},
   "outputs": [],
   "source": [
    "train_latent_space()\n",
    "\n",
    "latent_space = np.array(latent_space)\n",
    "latent_space = torch.Tensor(latent_space).to(device)"
   ]
  },
  {
   "cell_type": "markdown",
   "metadata": {},
   "source": [
    "---"
   ]
  },
  {
   "cell_type": "markdown",
   "metadata": {},
   "source": [
    "# 이상 픽셀 수 확인 함수"
   ]
  },
  {
   "cell_type": "code",
   "execution_count": null,
   "metadata": {},
   "outputs": [],
   "source": [
    "def count_el_not_0(diff_img):\n",
    "    count_el_not_0 = 0\n",
    "    \n",
    "    col_size = diff_img.shape[0]\n",
    "    row_size = diff_img.shape[1]\n",
    "    \n",
    "    #print(col_size, row_size)\n",
    "    \n",
    "    for col in range(col_size):\n",
    "        for row in range(row_size):\n",
    "            if diff_img[col][row] != 0:\n",
    "                count_el_not_0 += 1\n",
    "                \n",
    "    return count_el_not_0"
   ]
  },
  {
   "cell_type": "markdown",
   "metadata": {},
   "source": [
    "# Similar Z , Ano_Score and Segementation\n"
   ]
  },
  {
   "cell_type": "code",
   "execution_count": null,
   "metadata": {},
   "outputs": [],
   "source": [
    "diff_cnts = []\n",
    "diff_points = []\n",
    "anomaly_imgs = []\n",
    "\n",
    "\n",
    "def compare_imgs(real_img, generated_img, i, reverse=False, threshold=50):\n",
    "    global anomaly_img\n",
    "    \n",
    "    score = Anomaly_loss(real_img, generated_img)\n",
    "    score = round(score.item(), 2)\n",
    "    \n",
    "    real_img = real_img.cpu().data.numpy().reshape(img_size, img_size) * 255\n",
    "    generated_img = generated_img.cpu().data.numpy().reshape(img_size, img_size) * 255\n",
    "    negative = np.zeros_like(real_img)\n",
    "    \n",
    "    if not reverse:\n",
    "        diff_img = real_img - generated_img\n",
    "    else:\n",
    "        diff_img = generated_img - real_img\n",
    "    diff_img[diff_img <= threshold] = 0\n",
    "    # 분율 추출\n",
    "    diff_cnts.append(count_el_not_0(diff_img))\n",
    "    # 분산 추출\n",
    "    diff_points.append(np.where(diff_img > threshold))\n",
    "    \n",
    "    \n",
    "    anomaly_img = np.zeros(shape=(img_size, img_size, 3))\n",
    "    anomaly_img[:, :, 0] = real_img - diff_img\n",
    "    anomaly_img[:, :, 1] = real_img - diff_img\n",
    "    anomaly_img[:, :, 2] = real_img - diff_img\n",
    "    anomaly_img[:, :, 0] = anomaly_img[:,:,0] + diff_img\n",
    "    anomaly_img = anomaly_img.astype(np.uint8)\n",
    "    # anomaly_img 추출\n",
    "    anomaly_imgs.append(anomaly_img)\n",
    "    \n",
    "    fig, plots = plt.subplots(1, 4)\n",
    "    if auc[i] == 0:\n",
    "        fig.suptitle(f'Normal - (anomaly score: {score:.4})')\n",
    "    else :\n",
    "        fig.suptitle(f'Anomaly - (anomaly score: {score:.4})')\n",
    "    \n",
    "    fig.set_figwidth(9)\n",
    "    fig.set_tight_layout(True)\n",
    "    plots = plots.reshape(-1)\n",
    "    plots[0].imshow(real_img, cmap='gray', label = \"real\")\n",
    "    plots[1].imshow(generated_img, cmap='gray')\n",
    "    plots[2].imshow(diff_img, cmap='gray')\n",
    "    plots[3].imshow(anomaly_img)\n",
    "    \n",
    "    plots[0].set_title('real')\n",
    "    plots[1].set_title('generated')\n",
    "    plots[2].set_title('difference')\n",
    "    plots[3].set_title('Anomaly Detection')"
   ]
  },
  {
   "cell_type": "code",
   "execution_count": null,
   "metadata": {},
   "outputs": [],
   "source": [
    "for i,data in enumerate(test_data_loader,0):\n",
    "    test_img = data[0].to(device)\n",
    "\n",
    "    #for i in range(len(latent_space)):\n",
    "    update_z = latent_space[i]\n",
    "    R_img = test_img\n",
    "    G_img = G(update_z).to(device)\n",
    "    \n",
    "    if i in [9]:\n",
    "        compare_imgs(R_img, G_img,i,reverse = True, threshold = 50)\n",
    "    else:\n",
    "        compare_imgs(R_img, G_img,i,reverse = False, threshold = 50)"
   ]
  },
  {
   "cell_type": "markdown",
   "metadata": {},
   "source": [
    "---"
   ]
  },
  {
   "cell_type": "markdown",
   "metadata": {},
   "source": [
    "# 분율 추출"
   ]
  },
  {
   "cell_type": "code",
   "execution_count": null,
   "metadata": {},
   "outputs": [],
   "source": [
    "diff_cnts = np.array(diff_cnts)\n",
    "\n",
    "diff_fraction = diff_cnts / img_size ** 2\n",
    "\n",
    "print(diff_fraction)"
   ]
  },
  {
   "cell_type": "code",
   "execution_count": null,
   "metadata": {},
   "outputs": [],
   "source": [
    "print(sum(diff_fraction)/len(diff_fraction))\n"
   ]
  },
  {
   "cell_type": "markdown",
   "metadata": {},
   "source": [
    "---"
   ]
  },
  {
   "cell_type": "markdown",
   "metadata": {},
   "source": [
    "# 분산 추출"
   ]
  },
  {
   "cell_type": "code",
   "execution_count": null,
   "metadata": {},
   "outputs": [],
   "source": [
    "from scipy import stats\n",
    "from extended_int import int_inf\n",
    "\n",
    "corr_coeffis = []\n",
    "corr_p_vals = []\n",
    "\n",
    "def cal_corr_coeffis():\n",
    "    for idx in range(len(test_data_loader)):\n",
    "        x_points = diff_points[idx][0]\n",
    "        y_points = diff_points[idx][1]\n",
    "        \n",
    "        \n",
    "        if len(x_points) > 0:\n",
    "            corr_coeffi, corr_p_val = stats.pearsonr(x_points, y_points)\n",
    "        else:\n",
    "            corr_coeffi, corr_p_val = -int_inf, -int_inf\n",
    "        \n",
    "        corr_coeffis.append(corr_coeffi)\n",
    "        corr_p_vals.append(corr_p_val)"
   ]
  },
  {
   "cell_type": "code",
   "execution_count": null,
   "metadata": {},
   "outputs": [],
   "source": [
    "cal_corr_coeffis()\n",
    "\n",
    "print(corr_coeffis)"
   ]
  },
  {
   "cell_type": "markdown",
   "metadata": {},
   "source": [
    "---"
   ]
  },
  {
   "cell_type": "markdown",
   "metadata": {},
   "source": [
    "# 모델 저장 및 읽기"
   ]
  },
  {
   "cell_type": "code",
   "execution_count": null,
   "metadata": {},
   "outputs": [],
   "source": [
    "save_file = \"./pretrained/pretrained.pth\"\n",
    "\n",
    "def save_pretrained():\n",
    "    pretrained = {\n",
    "        \"D\" : D.state_dict(),\n",
    "        \"G\" : G.state_dict(),\n",
    "        #\"latent_space\" : latent_space.state_dict(), # nn.model만 가지는 기능\n",
    "    }\n",
    "\n",
    "    if not os.path.isdir(\"pretrained\"):\n",
    "        os.mkdir(\"pretrained\")\n",
    "    torch.save(pretrained, save_file)"
   ]
  },
  {
   "cell_type": "code",
   "execution_count": null,
   "metadata": {},
   "outputs": [],
   "source": [
    "save_pretrained()"
   ]
  },
  {
   "cell_type": "code",
   "execution_count": null,
   "metadata": {},
   "outputs": [],
   "source": [
    "pretrained_D = Discriminator().to(device)\n",
    "pretrained_G = Generator().to(device)\n",
    "#pretrained_latent_space = [] # 다시 학습해야 함\n",
    "\n",
    "def load_pretrained():\n",
    "    global pretrained_D\n",
    "    global pretrained_G\n",
    "    #global pretrained_latent_space\n",
    "    \n",
    "    assert os.path.isdir(\"pretrained\"), \"Error : no pretrained dir found!\"\n",
    "    \n",
    "    pretrained = torch.load(save_file)\n",
    "    \n",
    "    pretrained_D.load_state_dict(pretrained[\"D\"])\n",
    "    pretrained_G.load_state_dict(pretrained[\"G\"])\n",
    "    #pretrained_latent_space.load_state_dict(pretrained[\"latent_space\"])\n",
    "    \n",
    "    #print(\"pretrained_D :\", pretrained_D)\n",
    "    #print(\"pretrained_G :\", pretrained_G)\n",
    "    #print(\"pretrained_latent_space :\", pretrained_latent_space)"
   ]
  },
  {
   "cell_type": "code",
   "execution_count": null,
   "metadata": {},
   "outputs": [],
   "source": [
    "load_pretrained()"
   ]
  },
  {
   "cell_type": "code",
   "execution_count": null,
   "metadata": {},
   "outputs": [],
   "source": [
    "def Anomaly_loss(Test_Data, G_Data, Lambda=0.1):\n",
    "    \n",
    "    _, Test_Data_feature = pretrained_D(Test_Data)\n",
    "    _, G_Data_feature = pretrained_D(G_Data)\n",
    "    residual_loss = torch.sum(torch.abs(Test_Data - G_Data))\n",
    "    discrimination_loss = torch.sum(torch.abs(Test_Data_feature - G_Data_feature))\n",
    "    ano_loss = (1-Lambda)*residual_loss + Lambda*discrimination_loss\n",
    "    \n",
    "    return ano_loss"
   ]
  },
  {
   "cell_type": "code",
   "execution_count": null,
   "metadata": {},
   "outputs": [],
   "source": [
    "# train latent_space\n",
    "\n",
    "latent_space = []\n",
    "auc = []\n",
    "\n",
    "def train_latent_space():\n",
    "    global latent_space\n",
    "    global auc\n",
    "    \n",
    "    for i,data in enumerate(test_data_loader,0):\n",
    "        test_img = data[0].to(device)\n",
    "        print(\"picture \", i+1)\n",
    "        for step in range(401):\n",
    "\n",
    "            G_Data   = pretrained_G(latent_vector)\n",
    "            ano_loss = Anomaly_loss(test_img, G_Data)\n",
    "\n",
    "            z_optimizer.zero_grad()\n",
    "\n",
    "            # residual loss, dicriminator loss 의 그래디언트를 학습 가능한 weight에 독립적으로 반역하기 위해서\n",
    "            # 한쪽 로스를 업데이트하면 그래디언트가 해제되서 \n",
    "            ano_loss.backward(retain_graph = True)\n",
    "\n",
    "            z_optimizer.step()\n",
    "\n",
    "            if step%200 == 0:\n",
    "\n",
    "                loss   = ano_loss.item()\n",
    "                noises = torch.sum(latent_vector).item()\n",
    "                print(\"[%d]\\t Ano_loss : %.4f  Sum_of_z : %.4f\" %(step,loss,noises))\n",
    "                if step==400:\n",
    "                    latent_space.append(latent_vector.cpu().data.numpy())\n",
    "                    if loss>500:\n",
    "                        auc.append(1)\n",
    "                    else :\n",
    "                        auc.append(0)"
   ]
  },
  {
   "cell_type": "code",
   "execution_count": null,
   "metadata": {},
   "outputs": [],
   "source": [
    "train_latent_space()\n",
    "\n",
    "latent_space = np.array(latent_space)\n",
    "latent_space = torch.Tensor(latent_space).to(device)"
   ]
  },
  {
   "cell_type": "code",
   "execution_count": null,
   "metadata": {},
   "outputs": [],
   "source": [
    "def test():\n",
    "    for i,data in enumerate(test_data_loader,0):\n",
    "        test_img = data[0].to(device)\n",
    "\n",
    "        #for i in range(len(latent_space)):\n",
    "        update_z = latent_space[i]\n",
    "        R_img = test_img\n",
    "        G_img = pretrained_G(update_z).to(device)\n",
    "\n",
    "        if i in [9]:\n",
    "            compare_imgs(R_img, G_img,i,reverse = True, threshold = 50)\n",
    "        else:\n",
    "            compare_imgs(R_img, G_img,i,reverse = False, threshold = 50)"
   ]
  },
  {
   "cell_type": "code",
   "execution_count": null,
   "metadata": {},
   "outputs": [],
   "source": [
    "diff_cnts = []\n",
    "diff_points = []\n",
    "anomaly_imgs = []\n",
    "\n",
    "corr_coeffis = []\n",
    "corr_p_vals = []\n",
    "\n",
    "test()"
   ]
  },
  {
   "cell_type": "code",
   "execution_count": null,
   "metadata": {},
   "outputs": [],
   "source": [
    "diff_cnts = np.array(diff_cnts)\n",
    "\n",
    "diff_fraction = diff_cnts / img_size ** 2\n",
    "\n",
    "print(diff_fraction)"
   ]
  },
  {
   "cell_type": "code",
   "execution_count": null,
   "metadata": {},
   "outputs": [],
   "source": [
    "cal_corr_coeffis()\n",
    "\n",
    "print(corr_coeffis)"
   ]
  },
  {
   "cell_type": "markdown",
   "metadata": {},
   "source": [
    "---"
   ]
  },
  {
   "cell_type": "markdown",
   "metadata": {},
   "source": [
    "# anomaly detection 이미지 추출"
   ]
  },
  {
   "cell_type": "code",
   "execution_count": null,
   "metadata": {},
   "outputs": [],
   "source": [
    "anomaly_imgs"
   ]
  },
  {
   "cell_type": "markdown",
   "metadata": {},
   "source": [
    "# 이미지 저장 함수"
   ]
  },
  {
   "cell_type": "code",
   "execution_count": null,
   "metadata": {},
   "outputs": [],
   "source": [
    "import cv2\n",
    "\n",
    "def save_imgs(folder, imgs):\n",
    "    if not os.path.isdir(\"anomaly_imgs\"):\n",
    "        os.mkdir(\"anomaly_imgs\")\n",
    "    \n",
    "    for i in range(len(imgs)):\n",
    "        cv2.imwrite('%s/%d.png' %(folder,i), imgs[i]) #이미지 저장할 경로 설정을 여기서 한다.\n",
    "    print(\"image saving complete\")"
   ]
  },
  {
   "cell_type": "code",
   "execution_count": null,
   "metadata": {},
   "outputs": [],
   "source": [
    "save_imgs(\"./anomaly_imgs\", anomaly_imgs)"
   ]
  },
  {
   "cell_type": "markdown",
   "metadata": {},
   "source": [
    "---"
   ]
  },
  {
   "cell_type": "markdown",
   "metadata": {},
   "source": [
    "# 티타늄(Ti64) 상대 밀도 계산"
   ]
  },
  {
   "cell_type": "code",
   "execution_count": null,
   "metadata": {},
   "outputs": [],
   "source": [
    "Ti64_density = 4.43\n",
    "\n",
    "Ti64_rel_densitys = np.array([])\n",
    "\n",
    "Ti64_rel_densitys = diff_fraction * Ti64_density\n",
    "\n",
    "print(Ti64_rel_densitys)"
   ]
  },
  {
   "cell_type": "code",
   "execution_count": null,
   "metadata": {},
   "outputs": [],
   "source": []
  }
 ],
 "metadata": {
  "kernelspec": {
   "display_name": "Python 3",
   "language": "python",
   "name": "python3"
  },
  "language_info": {
   "codemirror_mode": {
    "name": "ipython",
    "version": 3
   },
   "file_extension": ".py",
   "mimetype": "text/x-python",
   "name": "python",
   "nbconvert_exporter": "python",
   "pygments_lexer": "ipython3",
   "version": "3.7.6"
  }
 },
 "nbformat": 4,
 "nbformat_minor": 4
}
