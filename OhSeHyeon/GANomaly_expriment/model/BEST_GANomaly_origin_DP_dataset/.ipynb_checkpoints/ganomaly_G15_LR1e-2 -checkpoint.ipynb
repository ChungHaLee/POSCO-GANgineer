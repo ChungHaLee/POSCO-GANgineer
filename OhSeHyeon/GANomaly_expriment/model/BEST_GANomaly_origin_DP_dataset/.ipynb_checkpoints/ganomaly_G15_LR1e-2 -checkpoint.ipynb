{
 "cells": [
  {
   "cell_type": "markdown",
   "metadata": {},
   "source": [
    "# GANomaly\n",
    "- 2020.08.16 : gen 15 / lr 1e-2\n",
    "\n",
    "# 개발일지\n",
    "- 2020.08.15 : 분율 추출 구현 / 이상치 상관계수 추출 구현 / 모델 save, load 구현\n",
    "- 2020.08.16 : anomaly detect 이미지 저장 구현 / 티타늄(Ti64) 상대 밀도 계산 구현"
   ]
  },
  {
   "cell_type": "markdown",
   "metadata": {},
   "source": [
    "--- "
   ]
  },
  {
   "cell_type": "markdown",
   "metadata": {},
   "source": [
    "# Module"
   ]
  },
  {
   "cell_type": "code",
   "execution_count": 1,
   "metadata": {},
   "outputs": [],
   "source": [
    "import torch\n",
    "import torch.nn as nn\n",
    "import torchvision\n",
    "from torchvision import transforms\n",
    "from torchvision.utils import save_image\n",
    "import os\n",
    "import numpy as np\n",
    "\n",
    "import torchvision.datasets as dataset\n",
    "import torchvision.transforms as transforms\n",
    "import torchvision.utils as vutils\n",
    "\n",
    "# Graph & Animation\n",
    "import matplotlib.pyplot as plt\n",
    "import matplotlib.animation as animation\n",
    "from IPython.display import HTML"
   ]
  },
  {
   "cell_type": "markdown",
   "metadata": {},
   "source": [
    "# Hyper Parameter"
   ]
  },
  {
   "cell_type": "code",
   "execution_count": 2,
   "metadata": {},
   "outputs": [],
   "source": [
    "latent_size = 100  # z벡터의 잠재공간(latent space)의 크기\n",
    "workers = 4    # 0일때, 약 20% 사용 4일 경우 메모리 100%\n",
    "img_size = 64\n",
    "channel = 1\n",
    "epochs = 100\n",
    "batch_size = 64\n",
    "learning_rate = 1e-2"
   ]
  },
  {
   "cell_type": "markdown",
   "metadata": {},
   "source": [
    "# Data and Device"
   ]
  },
  {
   "cell_type": "code",
   "execution_count": 3,
   "metadata": {},
   "outputs": [
    {
     "name": "stdout",
     "output_type": "stream",
     "text": [
      "size of dataset : 99\n",
      "device : cuda:0\n"
     ]
    }
   ],
   "source": [
    "# 이미지 경로, 이미지들 리사이즈 및 텐서형태로 만들기\n",
    "#data_root = \"../../dataset/train\"\n",
    "DP_data_root = \"../../dataset/train/train_DualPhaseSteel\"\n",
    "\n",
    "data_set = dataset.ImageFolder(root = DP_data_root, #data_root,\n",
    "                           transform = transforms.Compose([\n",
    "                                  #transforms.Resize(img_size),\n",
    "                                  transforms.CenterCrop(img_size),\n",
    "                                  torchvision.transforms.Grayscale(channel),\n",
    "                                  transforms.ToTensor(),\n",
    "                                  transforms.Normalize((0.5,),(0.5,))\n",
    "                              ]))\n",
    "\n",
    "print(\"size of dataset :\", len(data_set))\n",
    "\n",
    "# 배치로 나누고 셔플하기\n",
    "data_loader = torch.utils.data.DataLoader(data_set, batch_size = batch_size,\n",
    "                                         shuffle = True, num_workers = workers, drop_last=True)\n",
    "\n",
    "# Device setting (GPU or CPU)\n",
    "device = torch.device('cuda:0' if torch.cuda.is_available() else 'cpu')\n",
    "print(\"device :\", device)"
   ]
  },
  {
   "cell_type": "markdown",
   "metadata": {},
   "source": [
    "# MODEL"
   ]
  },
  {
   "cell_type": "code",
   "execution_count": 4,
   "metadata": {},
   "outputs": [],
   "source": [
    "# GANomaly : Generative Adversarial Networks Model using Decoder with AutoEncoder\n",
    "\n",
    "# === Decoder 모델 ===\n",
    "class Decoder(nn.Module):\n",
    "    def __init__(self):\n",
    "        super(Decoder,self).__init__()\n",
    "        \n",
    "        # Batch Normalization 유무에 따른 G_block 정의\n",
    "        def DC_conv_block(in_features, out_features):\n",
    "            block = [\n",
    "                    nn.Conv2d(in_features, out_features, 3, 1, 1, bias=False),\n",
    "                    nn.BatchNorm2d(out_features),\n",
    "                    nn.ELU()\n",
    "            ]\n",
    "            return block\n",
    "        \n",
    "        def DC_deconv_block(in_features, out_features, FIRST=True):\n",
    "            if FIRST:\n",
    "                block = [\n",
    "                    nn.ConvTranspose2d(in_features, out_features, 4, 1, 0, bias=False),\n",
    "                    nn.BatchNorm2d(out_features),\n",
    "                    nn.ELU()\n",
    "                ]\n",
    "            else:\n",
    "                block = [\n",
    "                    nn.ConvTranspose2d(in_features, out_features, 4, 2, 1, bias=False),\n",
    "                    nn.BatchNorm2d(out_features),\n",
    "                    nn.ELU()\n",
    "                ]\n",
    "            return block\n",
    "        \n",
    "        \n",
    "        # ======================= 픽셀 분포 생성 layer ======================= \n",
    "        self.DC_gen_distribution = nn.Sequential(\n",
    "            # ------ input is latent_size 100 ------ \n",
    "            *DC_deconv_block(latent_size, img_size*8, FIRST=True),\n",
    "            # ------ state size is 512x4x4 ------ \n",
    "            *DC_conv_block(img_size*8, img_size*8),\n",
    "            # ------ state size is 512x4x4 ------   \n",
    "            *DC_deconv_block(img_size*8, img_size*4, FIRST=False),\n",
    "            # ------ state size is 256x8x8 ------ \n",
    "            *DC_conv_block(img_size*4, img_size*4),\n",
    "            # ------ state size is 256x8x8 ------ \n",
    "            *DC_deconv_block(img_size*4, img_size*2, FIRST=False),\n",
    "            # ------ state size is 128x16x16 ------ \n",
    "            *DC_conv_block(img_size*2, img_size*2),\n",
    "            # ------ state size is 128x16x16 ------ \n",
    "            *DC_deconv_block(img_size*2, img_size, FIRST=False),\n",
    "        )\n",
    "        \n",
    "        # =================== 가짜 이미지 생성 layer =================== \n",
    "        self.DC_gen_fake_img = nn.Sequential(\n",
    "            # ------ state size is 64x32x32 ------ \n",
    "            nn.ConvTranspose2d(img_size, 1, 4, 2, 1, bias=False),\n",
    "            nn.Tanh() # 픽셀값의 범위 : -1 ~ 1로 두기 위해서\n",
    "            # ------ state size is 1x64x64 ------ \n",
    "        )\n",
    "    \n",
    "    def forward(self, input):\n",
    "        distribution = self.DC_gen_distribution(input)\n",
    "        fake_img = self.DC_gen_fake_img(distribution)\n",
    "        \n",
    "        return fake_img\n",
    "\n",
    "\n",
    "# === Discriminator 모델 ===\n",
    "class Discriminator(nn.Module):\n",
    "    def __init__(self):\n",
    "        super(Discriminator, self).__init__()\n",
    "        \n",
    "        # Batch Normalization 유무에 따른 D_block 정의\n",
    "        def D_block(in_features, out_features, MP=True):\n",
    "            if MP:\n",
    "                block = [\n",
    "                    nn.Conv2d(in_features, out_features, 3, 1, 1, bias=False),\n",
    "                    nn.BatchNorm2d(out_features),\n",
    "                    nn.ELU()\n",
    "                ]\n",
    "            else:\n",
    "                block = [\n",
    "                    nn.Conv2d(in_features, out_features, 3, 1, 1, bias=False),\n",
    "                    nn.BatchNorm2d(out_features),\n",
    "                    nn.ELU(),\n",
    "                    nn.MaxPool2d(2)\n",
    "                ]\n",
    "            return block\n",
    "        \n",
    "        # ============== Feature 추출 layer ==============\n",
    "        self.D_extract_feature = nn.Sequential(\n",
    "            # ------ input is 1 x 64 x 64 ------ \n",
    "            *D_block(channel, img_size, MP=False),\n",
    "            # ------ input is 64 x 64 x 64 ------ \n",
    "            *D_block(img_size, img_size, MP=True),\n",
    "            # ------ state is 64 x 32 x 32 ------ \n",
    "            *D_block(img_size, img_size*2, MP=False),\n",
    "            # ------ state is 128 x 32 x 32 ------ \n",
    "            *D_block(img_size*2, img_size*2, MP=True),\n",
    "            # ------ state is 128 x 16 x 16 ------ \n",
    "            *D_block(img_size*2, img_size*4, MP=False),\n",
    "            # ------ state is 256 x 16 x 16 ------ \n",
    "            *D_block(img_size*4, img_size*4, MP=True),\n",
    "            # ------ state is 256 x 8 x 8 ------ \n",
    "            *D_block(img_size*4, img_size*8, MP=False),\n",
    "            # ------ state is 512 x 8 x 8 ------ \n",
    "            *D_block(img_size*8, img_size*8, MP=True),\n",
    "        )\n",
    "        \n",
    "        # ===================== 이진 분류 layer =====================\n",
    "        self.D_classification = nn.Sequential(        \n",
    "            # ------- state size 512x4x4 ------- \n",
    "            nn.Conv2d(img_size*8, channel, 4, 1, 0, bias=False),\n",
    "            #nn.Linear(fms*8*4*4, 1, bias=False),\n",
    "            nn.Sigmoid()        \n",
    "        )\n",
    "        \n",
    "    def forward(self, input):\n",
    "        feature = self.D_extract_feature(input)\n",
    "        classification = self.D_classification(feature)\n",
    "        \n",
    "        return classification, feature \n",
    "\n",
    "\n",
    "# === Encoder Model ===\n",
    "class Encoder(nn.Module):\n",
    "    def __init__(self):\n",
    "        super(Encoder, self).__init__()\n",
    "        \n",
    "        def EC_block(in_features, out_features, MP=True):\n",
    "            if MP:\n",
    "                block = [\n",
    "                    nn.Conv2d(in_features, out_features, 3, 1, 1, bias=False),\n",
    "                    nn.BatchNorm2d(out_features),\n",
    "                    nn.ELU()\n",
    "                ]\n",
    "            else:\n",
    "                block = [\n",
    "                    nn.Conv2d(in_features, out_features, 3, 1, 1, bias=False),\n",
    "                    nn.BatchNorm2d(out_features),\n",
    "                    nn.ELU(),\n",
    "                    nn.MaxPool2d(2)\n",
    "                ]\n",
    "            return block\n",
    "        \n",
    "        # ============== Feature 추출 ==============\n",
    "        self.EC_extract_feature = nn.Sequential(\n",
    "            # ------ input is 1 x 64 x 64 ------ \n",
    "            *EC_block(channel, img_size, MP=False),\n",
    "            # ------ input is 64 x 64 x 64 ------ \n",
    "            *EC_block(img_size, img_size, MP=True),\n",
    "            # ------ state is 64 x 32 x 32 ------ \n",
    "            *EC_block(img_size, img_size*2, MP=False),\n",
    "            # ------ state is 128 x 32 x 32 ------ \n",
    "            *EC_block(img_size*2, img_size*2, MP=True),\n",
    "            # ------ state is 128 x 16 x 16 ------ \n",
    "            *EC_block(img_size*2, img_size*4, MP=False),\n",
    "            # ------ state is 256 x 16 x 16 ------ \n",
    "            *EC_block(img_size*4, img_size*4, MP=True),\n",
    "            # ------ state is 256 x 8 x 8 ------ \n",
    "            *EC_block(img_size*4, img_size*8, MP=False),\n",
    "            # ------ state is 512 x 8 x 8 ------ \n",
    "            *EC_block(img_size*8, img_size*8, MP=True),\n",
    "        )\n",
    "        \n",
    "        # =============== Encoder Training layer ===============\n",
    "        self.EC_validate = nn.Sequential(\n",
    "            # -------state is 512 x 4 x 4-------\n",
    "            nn.Conv2d(img_size*8, latent_size, 4, 1, 0, bias=False),\n",
    "            nn.Tanh()\n",
    "            # -------state is 100 x 97 x 97-------\n",
    "        )\n",
    "        \n",
    "    def forward(self, input):\n",
    "        feature = self.EC_extract_feature(input)\n",
    "        validity = self.EC_validate(feature)\n",
    "        \n",
    "        return validity"
   ]
  },
  {
   "cell_type": "markdown",
   "metadata": {},
   "source": [
    "# Loss & Optim"
   ]
  },
  {
   "cell_type": "code",
   "execution_count": 5,
   "metadata": {},
   "outputs": [],
   "source": [
    "# DC and D 무게 초기화, classname 에 찾는 name가 없다면 -1 ,\n",
    "def weights_init(m):\n",
    "    classname = m.__class__.__name__\n",
    "    if classname.find('Conv') != -1:\n",
    "        nn.init.normal_(m.weight.data, 0.0, 0.02)\n",
    "    elif classname.find('BatchNorm') != -1:\n",
    "        nn.init.normal_(m.weight.data, 0.0, 0.02)\n",
    "        nn.init.constant_(m.bias.data, 0)\n",
    "\n",
    "\n",
    "# D,DC,EC 네트워크 모델 객체 선언\n",
    "D = Discriminator().to(device)\n",
    "DC = Decoder().to(device)\n",
    "EC = Encoder().to(device)\n",
    "\n",
    "# weight initialize/ nn.Module 클래스 안에 apply 함수가 정의되 있음, 각 함수들에 다 적용 하게한다\n",
    "D.apply(weights_init)\n",
    "DC.apply(weights_init)\n",
    "EC.apply(weights_init)\n",
    "\n",
    "# Binary cross entropy loss and optimizer\n",
    "DCGAN_criterion = nn.BCELoss()\n",
    "AE_criterion = nn.MSELoss()\n",
    "\n",
    "# latent vector에 배치 사이즈 64를 적용\n",
    "# 학습한 DC로 새로운 것 만들어서 결과 확인 할때 사용\n",
    "noise_z = torch.randn(img_size, latent_size, 1, 1, device = device)\n",
    "\n",
    "# D와 DC에 대해 두가지 최적화 설정\n",
    "D_optimizer = torch.optim.Adam(D.parameters(), lr = learning_rate, betas=(0.5,0.999))\n",
    "DC_optimizer = torch.optim.Adam(DC.parameters(), lr = learning_rate, betas=(0.5,0.999))\n",
    "EC_optimizer = torch.optim.Adam(EC.parameters(), lr = learning_rate, betas=(0.5,0.999))\n",
    "\n",
    "#print(D)\n",
    "#print(DC)\n",
    "#print(EC)\n",
    "\n",
    "def reset_grad():\n",
    "    D_optimizer.zero_grad()\n",
    "    DC_optimizer.zero_grad()"
   ]
  },
  {
   "cell_type": "markdown",
   "metadata": {},
   "source": [
    "---"
   ]
  },
  {
   "cell_type": "markdown",
   "metadata": {},
   "source": [
    "# Train DCGAN"
   ]
  },
  {
   "cell_type": "code",
   "execution_count": 6,
   "metadata": {},
   "outputs": [],
   "source": [
    "img_list = []\n",
    "DC_losses = []\n",
    "D_losses = []\n",
    "iters = 0\n",
    "\n",
    "def train_DCGAN(epoch, learning_DC_per_D = 4):\n",
    "    global epochs\n",
    "    global iters\n",
    "    \n",
    "    # 인덱스 0부터 세기 시작\n",
    "    # data[0].size():64x1x64x64(image) / data[1].size():64(label)\n",
    "    for i,data in enumerate(data_loader,0):\n",
    "        \n",
    "        # Train D\n",
    "        real_img = data[0].to(device) # image size: 64x1x64x64(batch, channel, width, height)\n",
    "        b_size = real_img.size(0) # b_size = 64\n",
    "        real_labels = torch.ones(b_size, 1).to(device)\n",
    "        fake_labels = torch.zeros(b_size, 1).to(device)\n",
    "        \n",
    "        # (--------------------------real-----------------------------)\n",
    "        real_classification, _ = D(real_img) # output = D(x)\n",
    "        real_loss = DCGAN_criterion(real_classification, real_labels) # D(x)=1일 때의 loss\n",
    "        real_score = real_classification\n",
    "        D_x = real_score.mean().item() \n",
    "            \n",
    "        # (--------------------------fake-----------------------------)\n",
    "        z = torch.randn(b_size, latent_size, 1, 1).to(device) # z size :64x100x1x1\n",
    "        fake_img = DC(z)\n",
    "        fake_classification, _ = D(fake_img) # output = D(DC(z))\n",
    "        fake_loss = DCGAN_criterion(fake_classification, fake_labels) # D(DC(z))=0일 때의 loss\n",
    "        fake_score = fake_classification\n",
    "        D_DC_z1 = fake_score.mean().item()\n",
    "\n",
    "        # (------------------Backprop and optimize---------------------)\n",
    "        D_loss = real_loss + fake_loss\n",
    "        reset_grad()\n",
    "        D_loss.backward()\n",
    "        D_optimizer.step() # D(x)=1, D(DC(z))=0이어야 D가 최적\n",
    "\n",
    "        \n",
    "        # Train DC\n",
    "        #z = torch.randn(b_size,latent_size,1,1,device=device) # z size :64x100x1x1\n",
    "        for k in range(learning_DC_per_D):\n",
    "            fake_img = DC(z)\n",
    "            fake_classification,_ = D(fake_img)  # output : D(DC(z))\n",
    "            D_DC_z2 = fake_classification.mean().item()\n",
    "            DC_loss = DCGAN_criterion(fake_classification, real_labels) # D(DC(z))=1일 때의 loss=log(D(DC(z)))\n",
    "\n",
    "            # (------------------Backprop and optimize---------------------)\n",
    "            reset_grad()\n",
    "            DC_loss.backward()\n",
    "            DC_optimizer.step() # D(DC(z))=1 이어야 DC가 최적\n",
    "            # ==> D(DC(z))의 값이 0.5로 수렴해야 한다.\n",
    "        \n",
    "        \n",
    "        # print\n",
    "        print('[%d/%d][%d/%d]\\n- D_loss : %.4f / DC_loss : %.4f\\n- D(x):%.4f / D(DC(z1)) : %.4f / D(DC(z2)) : %.4f' \n",
    "                   %(epoch+1, epochs, i, len(data_loader),D_loss.item(),\n",
    "                     DC_loss.item(),D_x,D_DC_z1,D_DC_z2))\n",
    "        \n",
    "        # Save Losses for plotting later\n",
    "        DC_losses.append(DC_loss.item())\n",
    "        D_losses.append(D_loss.item())\n",
    "        \n",
    "        #Check how the generator is doing by saving G's output on noise_z\n",
    "        if (iters % 500 == 0) or ((epoch == epochs-1) and (i == len(data_loader)-1)):\n",
    "            with torch.no_grad():\n",
    "                fake = DC(noise_z).detach().cpu()\n",
    "            img_list.append(vutils.make_grid(fake, padding=2, normalize=True))\n",
    "            \n",
    "        iters += 1\n",
    "        \n",
    "#torch.save(E.state_dict(), 'E.ckpt')"
   ]
  },
  {
   "cell_type": "code",
   "execution_count": null,
   "metadata": {},
   "outputs": [
    {
     "name": "stderr",
     "output_type": "stream",
     "text": [
      "/home/piai/anaconda3/envs/pytorch/lib/python3.6/site-packages/torch/nn/modules/loss.py:498: UserWarning: Using a target size (torch.Size([64, 1])) that is different to the input size (torch.Size([64, 1, 1, 1])) is deprecated. Please ensure they have the same size.\n",
      "  return F.binary_cross_entropy(input, target, weight=self.weight, reduction=self.reduction)\n"
     ]
    },
    {
     "name": "stdout",
     "output_type": "stream",
     "text": [
      "[1/100][0/1]\n",
      "- D_loss : 1.4038 / DC_loss : 0.4311\n",
      "- D(x):0.5023 / D(DC(z1)) : 0.5108 / D(DC(z2)) : 0.6498\n",
      "[2/100][0/1]\n",
      "- D_loss : 2.1891 / DC_loss : 0.7901\n",
      "- D(x):0.3349 / D(DC(z1)) : 0.6530 / D(DC(z2)) : 0.4538\n",
      "[3/100][0/1]\n",
      "- D_loss : 1.6634 / DC_loss : 0.3071\n",
      "- D(x):0.3485 / D(DC(z1)) : 0.4545 / D(DC(z2)) : 0.7355\n",
      "[4/100][0/1]\n",
      "- D_loss : 1.8128 / DC_loss : 0.6877\n",
      "- D(x):0.6209 / D(DC(z1)) : 0.7364 / D(DC(z2)) : 0.5027\n",
      "[5/100][0/1]\n",
      "- D_loss : 1.5143 / DC_loss : 0.7914\n",
      "- D(x):0.4426 / D(DC(z1)) : 0.5028 / D(DC(z2)) : 0.4532\n",
      "[6/100][0/1]\n",
      "- D_loss : 1.4421 / DC_loss : 0.6571\n",
      "- D(x):0.4305 / D(DC(z1)) : 0.4507 / D(DC(z2)) : 0.5184\n",
      "[7/100][0/1]\n",
      "- D_loss : 1.3964 / DC_loss : 0.6098\n",
      "- D(x):0.5073 / D(DC(z1)) : 0.5121 / D(DC(z2)) : 0.5435\n",
      "[8/100][0/1]\n",
      "- D_loss : 1.4020 / DC_loss : 0.6964\n",
      "- D(x):0.5352 / D(DC(z1)) : 0.5401 / D(DC(z2)) : 0.4984\n",
      "[9/100][0/1]\n",
      "- D_loss : 1.3851 / DC_loss : 0.7219\n",
      "- D(x):0.4964 / D(DC(z1)) : 0.4958 / D(DC(z2)) : 0.4859\n",
      "[10/100][0/1]\n",
      "- D_loss : 1.3896 / DC_loss : 0.6936\n",
      "- D(x):0.4810 / D(DC(z1)) : 0.4819 / D(DC(z2)) : 0.4998\n",
      "[11/100][0/1]\n",
      "- D_loss : 1.3899 / DC_loss : 0.6722\n",
      "- D(x):0.4957 / D(DC(z1)) : 0.4974 / D(DC(z2)) : 0.5106\n",
      "[12/100][0/1]\n",
      "- D_loss : 1.3882 / DC_loss : 0.6820\n",
      "- D(x):0.5081 / D(DC(z1)) : 0.5089 / D(DC(z2)) : 0.5056\n",
      "[13/100][0/1]\n",
      "- D_loss : 1.3898 / DC_loss : 0.6993\n",
      "- D(x):0.5037 / D(DC(z1)) : 0.5054 / D(DC(z2)) : 0.4969\n",
      "[14/100][0/1]\n",
      "- D_loss : 1.3902 / DC_loss : 0.7025\n",
      "- D(x):0.4942 / D(DC(z1)) : 0.4961 / D(DC(z2)) : 0.4953\n",
      "[15/100][0/1]\n",
      "- D_loss : 1.3888 / DC_loss : 0.6909\n",
      "- D(x):0.4935 / D(DC(z1)) : 0.4947 / D(DC(z2)) : 0.5011\n",
      "[16/100][0/1]\n",
      "- D_loss : 1.3883 / DC_loss : 0.6863\n",
      "- D(x):0.4994 / D(DC(z1)) : 0.5004 / D(DC(z2)) : 0.5034\n",
      "[17/100][0/1]\n",
      "- D_loss : 1.3884 / DC_loss : 0.6895\n",
      "- D(x):0.5019 / D(DC(z1)) : 0.5029 / D(DC(z2)) : 0.5018\n",
      "[18/100][0/1]\n",
      "- D_loss : 1.3897 / DC_loss : 0.6943\n",
      "- D(x):0.4998 / D(DC(z1)) : 0.5015 / D(DC(z2)) : 0.4994\n",
      "[19/100][0/1]\n",
      "- D_loss : 1.3888 / DC_loss : 0.6923\n",
      "- D(x):0.4979 / D(DC(z1)) : 0.4992 / D(DC(z2)) : 0.5004\n",
      "[20/100][0/1]\n",
      "- D_loss : 1.3883 / DC_loss : 0.6927\n",
      "- D(x):0.4993 / D(DC(z1)) : 0.5003 / D(DC(z2)) : 0.5002\n",
      "[21/100][0/1]\n",
      "- D_loss : 1.3876 / DC_loss : 0.6948\n",
      "- D(x):0.4994 / D(DC(z1)) : 0.5000 / D(DC(z2)) : 0.4992\n",
      "[22/100][0/1]\n",
      "- D_loss : 1.3874 / DC_loss : 0.6930\n",
      "- D(x):0.4984 / D(DC(z1)) : 0.4989 / D(DC(z2)) : 0.5001\n",
      "[23/100][0/1]\n",
      "- D_loss : 1.3871 / DC_loss : 0.6906\n",
      "- D(x):0.4994 / D(DC(z1)) : 0.4998 / D(DC(z2)) : 0.5013\n",
      "[24/100][0/1]\n",
      "- D_loss : 1.3873 / DC_loss : 0.6918\n",
      "- D(x):0.5006 / D(DC(z1)) : 0.5011 / D(DC(z2)) : 0.5007\n",
      "[25/100][0/1]\n",
      "- D_loss : 1.3870 / DC_loss : 0.6931\n",
      "- D(x):0.5001 / D(DC(z1)) : 0.5005 / D(DC(z2)) : 0.5000\n",
      "[26/100][0/1]\n",
      "- D_loss : 1.3867 / DC_loss : 0.6930\n",
      "- D(x):0.4996 / D(DC(z1)) : 0.4998 / D(DC(z2)) : 0.5001\n",
      "[27/100][0/1]\n",
      "- D_loss : 1.3868 / DC_loss : 0.6924\n",
      "- D(x):0.4996 / D(DC(z1)) : 0.4999 / D(DC(z2)) : 0.5004\n",
      "[28/100][0/1]\n",
      "- D_loss : 1.3869 / DC_loss : 0.6932\n",
      "- D(x):0.4999 / D(DC(z1)) : 0.5002 / D(DC(z2)) : 0.5000\n",
      "[29/100][0/1]\n",
      "- D_loss : 1.3868 / DC_loss : 0.6936\n",
      "- D(x):0.4995 / D(DC(z1)) : 0.4998 / D(DC(z2)) : 0.4998\n",
      "[30/100][0/1]\n",
      "- D_loss : 1.3866 / DC_loss : 0.6921\n",
      "- D(x):0.4995 / D(DC(z1)) : 0.4997 / D(DC(z2)) : 0.5005\n",
      "[31/100][0/1]\n",
      "- D_loss : 1.3867 / DC_loss : 0.6924\n",
      "- D(x):0.5002 / D(DC(z1)) : 0.5004 / D(DC(z2)) : 0.5004\n",
      "[32/100][0/1]\n",
      "- D_loss : 1.3868 / DC_loss : 0.6928\n",
      "- D(x):0.5000 / D(DC(z1)) : 0.5002 / D(DC(z2)) : 0.5002\n",
      "[33/100][0/1]\n",
      "- D_loss : 1.3869 / DC_loss : 0.6921\n",
      "- D(x):0.4997 / D(DC(z1)) : 0.5000 / D(DC(z2)) : 0.5005\n",
      "[34/100][0/1]\n",
      "- D_loss : 1.3870 / DC_loss : 0.6938\n",
      "- D(x):0.5001 / D(DC(z1)) : 0.5005 / D(DC(z2)) : 0.4997\n",
      "[35/100][0/1]\n",
      "- D_loss : 1.3868 / DC_loss : 0.6918\n",
      "- D(x):0.4994 / D(DC(z1)) : 0.4996 / D(DC(z2)) : 0.5007\n",
      "[36/100][0/1]\n",
      "- D_loss : 1.3867 / DC_loss : 0.6910\n",
      "- D(x):0.5004 / D(DC(z1)) : 0.5006 / D(DC(z2)) : 0.5011\n",
      "[37/100][0/1]\n",
      "- D_loss : 1.3867 / DC_loss : 0.6934\n",
      "- D(x):0.5008 / D(DC(z1)) : 0.5010 / D(DC(z2)) : 0.4999\n",
      "[38/100][0/1]\n",
      "- D_loss : 1.3865 / DC_loss : 0.6932\n",
      "- D(x):0.4997 / D(DC(z1)) : 0.4998 / D(DC(z2)) : 0.5000\n",
      "[39/100][0/1]\n",
      "- D_loss : 1.3865 / DC_loss : 0.6932\n",
      "- D(x):0.4997 / D(DC(z1)) : 0.4998 / D(DC(z2)) : 0.5000\n",
      "[40/100][0/1]\n",
      "- D_loss : 1.3864 / DC_loss : 0.6917\n",
      "- D(x):0.4998 / D(DC(z1)) : 0.4998 / D(DC(z2)) : 0.5007\n",
      "[41/100][0/1]\n",
      "- D_loss : 1.3865 / DC_loss : 0.6932\n",
      "- D(x):0.5004 / D(DC(z1)) : 0.5005 / D(DC(z2)) : 0.5000\n",
      "[42/100][0/1]\n",
      "- D_loss : 1.3866 / DC_loss : 0.6933\n",
      "- D(x):0.4996 / D(DC(z1)) : 0.4998 / D(DC(z2)) : 0.4999\n",
      "[43/100][0/1]\n",
      "- D_loss : 1.3865 / DC_loss : 0.6920\n",
      "- D(x):0.4997 / D(DC(z1)) : 0.4998 / D(DC(z2)) : 0.5006\n",
      "[44/100][0/1]\n",
      "- D_loss : 1.3865 / DC_loss : 0.6924\n",
      "- D(x):0.5004 / D(DC(z1)) : 0.5005 / D(DC(z2)) : 0.5004\n",
      "[45/100][0/1]\n",
      "- D_loss : 1.3864 / DC_loss : 0.6934\n",
      "- D(x):0.5001 / D(DC(z1)) : 0.5002 / D(DC(z2)) : 0.4999\n",
      "[46/100][0/1]\n",
      "- D_loss : 1.3864 / DC_loss : 0.6935\n",
      "- D(x):0.4997 / D(DC(z1)) : 0.4997 / D(DC(z2)) : 0.4998\n",
      "[47/100][0/1]\n",
      "- D_loss : 1.3863 / DC_loss : 0.6916\n",
      "- D(x):0.4996 / D(DC(z1)) : 0.4997 / D(DC(z2)) : 0.5008\n",
      "[48/100][0/1]\n",
      "- D_loss : 1.3863 / DC_loss : 0.6929\n",
      "- D(x):0.5005 / D(DC(z1)) : 0.5005 / D(DC(z2)) : 0.5001\n",
      "[49/100][0/1]\n",
      "- D_loss : 1.3863 / DC_loss : 0.6949\n",
      "- D(x):0.5000 / D(DC(z1)) : 0.5000 / D(DC(z2)) : 0.4991\n",
      "[50/100][0/1]\n",
      "- D_loss : 1.3865 / DC_loss : 0.6905\n",
      "- D(x):0.4989 / D(DC(z1)) : 0.4990 / D(DC(z2)) : 0.5013\n",
      "[51/100][0/1]\n",
      "- D_loss : 1.3863 / DC_loss : 0.6927\n",
      "- D(x):0.5011 / D(DC(z1)) : 0.5011 / D(DC(z2)) : 0.5002\n",
      "[52/100][0/1]\n",
      "- D_loss : 1.3865 / DC_loss : 0.6955\n",
      "- D(x):0.4999 / D(DC(z1)) : 0.5001 / D(DC(z2)) : 0.4988\n",
      "[53/100][0/1]\n",
      "- D_loss : 1.3866 / DC_loss : 0.6900\n",
      "- D(x):0.4985 / D(DC(z1)) : 0.4986 / D(DC(z2)) : 0.5016\n",
      "[54/100][0/1]\n",
      "- D_loss : 1.3863 / DC_loss : 0.6922\n",
      "- D(x):0.5013 / D(DC(z1)) : 0.5013 / D(DC(z2)) : 0.5005\n",
      "[55/100][0/1]\n",
      "- D_loss : 1.3868 / DC_loss : 0.6953\n",
      "- D(x):0.5000 / D(DC(z1)) : 0.5003 / D(DC(z2)) : 0.4989\n",
      "[56/100][0/1]\n",
      "- D_loss : 1.3869 / DC_loss : 0.6927\n",
      "- D(x):0.4985 / D(DC(z1)) : 0.4987 / D(DC(z2)) : 0.5002\n",
      "[57/100][0/1]\n",
      "- D_loss : 1.3865 / DC_loss : 0.6894\n",
      "- D(x):0.4999 / D(DC(z1)) : 0.5000 / D(DC(z2)) : 0.5019\n",
      "[58/100][0/1]\n",
      "- D_loss : 1.3866 / DC_loss : 0.6938\n",
      "- D(x):0.5015 / D(DC(z1)) : 0.5017 / D(DC(z2)) : 0.4997\n",
      "[59/100][0/1]\n",
      "- D_loss : 1.3864 / DC_loss : 0.6930\n",
      "- D(x):0.4993 / D(DC(z1)) : 0.4994 / D(DC(z2)) : 0.5001\n",
      "[60/100][0/1]\n",
      "- D_loss : 1.3867 / DC_loss : 0.6931\n",
      "- D(x):0.4996 / D(DC(z1)) : 0.4998 / D(DC(z2)) : 0.5000\n",
      "[61/100][0/1]\n",
      "- D_loss : 1.3865 / DC_loss : 0.6917\n",
      "- D(x):0.4997 / D(DC(z1)) : 0.4998 / D(DC(z2)) : 0.5007\n",
      "[62/100][0/1]\n",
      "- D_loss : 1.3864 / DC_loss : 0.6923\n",
      "- D(x):0.5004 / D(DC(z1)) : 0.5004 / D(DC(z2)) : 0.5004\n",
      "[63/100][0/1]\n",
      "- D_loss : 1.3867 / DC_loss : 0.6923\n",
      "- D(x):0.5000 / D(DC(z1)) : 0.5001 / D(DC(z2)) : 0.5004\n"
     ]
    }
   ],
   "source": [
    "for epoch in range(epochs):\n",
    "    train_DCGAN(epoch, learning_DC_per_D = 15)"
   ]
  },
  {
   "cell_type": "markdown",
   "metadata": {},
   "source": [
    "# Animation"
   ]
  },
  {
   "cell_type": "code",
   "execution_count": null,
   "metadata": {},
   "outputs": [],
   "source": [
    "def animate_gen_imgs():\n",
    "    fig = plt.figure(figsize=(8,8))\n",
    "    plt.axis(\"off\")\n",
    "    \n",
    "    ims=[[plt.imshow(np.transpose(i,(1,2,0)), animated=True)] for i in img_list]\n",
    "    ani = animation.ArtistAnimation(fig, ims, interval=1000, repeat_delay=1000, blit=True)\n",
    "    HTML(ani.to_jshtml())"
   ]
  },
  {
   "cell_type": "code",
   "execution_count": null,
   "metadata": {},
   "outputs": [],
   "source": [
    "animate_gen_imgs()"
   ]
  },
  {
   "cell_type": "markdown",
   "metadata": {},
   "source": [
    "# Trian : izif E"
   ]
  },
  {
   "cell_type": "code",
   "execution_count": null,
   "metadata": {},
   "outputs": [],
   "source": [
    "DC.eval()\n",
    "D.eval()\n",
    "\n",
    "kappa = 1.0\n",
    "EC_losses = []\n",
    "\n",
    "iters = 0\n",
    "AE_img_list = []\n",
    "\n",
    "def train_AE(epoch):\n",
    "    global epochs\n",
    "    global iters\n",
    "    global EC_losses\n",
    "    global AE_img_list\n",
    "    \n",
    "    # 인덱스 0부터 세기 시작\n",
    "    # data[0].size():64x1x64x64(image) / data[1].size():64(label)\n",
    "    for i,data in enumerate(data_loader,0):\n",
    "        \n",
    "        real_imgs = data[0].to(device)\n",
    "        \n",
    "        EC_optimizer.zero_grad()\n",
    "        \n",
    "        EC_validity = EC(real_imgs)\n",
    "        \n",
    "        fake_imgs = DC(EC_validity)\n",
    "        \n",
    "        _, real_features = D.forward(real_imgs)\n",
    "        _, fake_features = D.forward(fake_imgs)\n",
    "        \n",
    "        \n",
    "        # izif architecture\n",
    "        imgs_loss = AE_criterion(real_imgs, fake_imgs)\n",
    "        features_loss = AE_criterion(real_features, fake_features)\n",
    "        EC_loss = imgs_loss + kappa*features_loss\n",
    "        \n",
    "        EC_loss.backward()\n",
    "        EC_optimizer.step()\n",
    "        \n",
    "        # =============================================================\n",
    "        # print\n",
    "        # =============================================================\n",
    "        print('[%d/%d][%d/%d]\\n- E_loss: %.4f\\n'\n",
    "              %(epoch+1, epochs, i, len(data_loader), EC_loss.item()))\n",
    "        \n",
    "        # Save Losses for plotting later\n",
    "        EC_losses.append(EC_loss.item())\n",
    "        \n",
    "        #Check how the generator is doing by saving G's output on noise_z\n",
    "        if (iters % 500 == 0) or ((epoch == epochs-1) and (i == len(data_loader)-1)):\n",
    "            with torch.no_grad():\n",
    "                fake = DC(EC_validity).detach().cpu()\n",
    "            AE_img_list.append(vutils.make_grid(fake, padding=2, normalize=True))\n",
    "            \n",
    "        iters += 1\n",
    "        \n",
    "#torch.save(E.state_dict(), 'E.ckpt')"
   ]
  },
  {
   "cell_type": "code",
   "execution_count": null,
   "metadata": {
    "scrolled": true
   },
   "outputs": [],
   "source": [
    "for epoch in range(epochs):\n",
    "    train_AE(epoch)"
   ]
  },
  {
   "cell_type": "markdown",
   "metadata": {},
   "source": [
    "# Loss Graph"
   ]
  },
  {
   "cell_type": "code",
   "execution_count": null,
   "metadata": {},
   "outputs": [],
   "source": [
    "def plot_train_loss():\n",
    "    plt.figure(figsize=(10,5))\n",
    "    plt.title(\"Generator and Discriminator Loss During Training\")\n",
    "    plt.plot(DC_losses, label=\"G\")\n",
    "    plt.plot(D_losses, label=\"D\")\n",
    "    plt.plot(EC_losses, label=\"E\")\n",
    "    plt.xlabel(\"iterations\")\n",
    "    plt.ylabel(\"Loss\")\n",
    "    plt.legend()\n",
    "    plt.show()"
   ]
  },
  {
   "cell_type": "code",
   "execution_count": null,
   "metadata": {},
   "outputs": [],
   "source": [
    "plot_train_loss()"
   ]
  },
  {
   "cell_type": "markdown",
   "metadata": {},
   "source": [
    "---"
   ]
  },
  {
   "cell_type": "markdown",
   "metadata": {},
   "source": [
    "# Test Data"
   ]
  },
  {
   "cell_type": "code",
   "execution_count": null,
   "metadata": {},
   "outputs": [],
   "source": [
    "#test_data_root = \"../../dataset/test/test_DualPhaseSteel\"\n",
    "DP_test_data_root = \"../../dataset/test/test_DualPhaseSteel\"\n",
    "\n",
    "test_data_set = dataset.ImageFolder(root = DP_test_data_root, #test_data_root,\n",
    "                           transform = transforms.Compose([\n",
    "                                  transforms.Resize(img_size),\n",
    "                                  transforms.CenterCrop(img_size),\n",
    "                                  torchvision.transforms.Grayscale(channel),\n",
    "                                  transforms.ToTensor(),\n",
    "                                  transforms.Normalize((0.5,),(0.5,))\n",
    "                              ]))\n",
    "\n",
    "# 배치로 나누고 셔플하기\n",
    "test_data_loader = torch.utils.data.DataLoader(test_data_set, batch_size = 1,\n",
    "                                              shuffle = False, num_workers = workers)"
   ]
  },
  {
   "cell_type": "markdown",
   "metadata": {},
   "source": [
    "# 이상 픽셀 수 확인 함수"
   ]
  },
  {
   "cell_type": "code",
   "execution_count": null,
   "metadata": {},
   "outputs": [],
   "source": [
    "def count_el_not_0(diff_img):\n",
    "    count_el_not_0 = 0\n",
    "    \n",
    "    col_size = diff_img.shape[0]\n",
    "    row_size = diff_img.shape[1]\n",
    "    \n",
    "    #print(col_size, row_size)\n",
    "    \n",
    "    for col in range(col_size):\n",
    "        for row in range(row_size):\n",
    "            if diff_img[col][row] != 0:\n",
    "                count_el_not_0 += 1\n",
    "                \n",
    "    return count_el_not_0"
   ]
  },
  {
   "cell_type": "markdown",
   "metadata": {},
   "source": [
    "# img 비교 함수"
   ]
  },
  {
   "cell_type": "code",
   "execution_count": null,
   "metadata": {},
   "outputs": [],
   "source": [
    "def compare_imgs(real_img, generated_img, i, score, reverse=False, threshold=50):\n",
    "    real_img = real_img.cpu().data.numpy().reshape(img_size, img_size) * 255\n",
    "    generated_img = generated_img.cpu().data.numpy().reshape(img_size, img_size) * 255\n",
    "    \n",
    "    negative = np.zeros_like(real_img)\n",
    "\n",
    "    if not reverse:\n",
    "        diff_img = real_img - generated_img\n",
    "    else:\n",
    "        diff_img = generated_img - real_img\n",
    "\n",
    "    diff_img[diff_img <= threshold] = 0\n",
    "\n",
    "    # 분율 추출\n",
    "    diff_cnts.append(count_el_not_0(diff_img))\n",
    "    # 분산 추출\n",
    "    diff_points.append(np.where(diff_img > threshold))\n",
    "    \n",
    "    anomaly_img = np.zeros(shape=(img_size, img_size, 3))\n",
    "    anomaly_img[:, :, 0] = real_img - diff_img\n",
    "    anomaly_img[:, :, 1] = real_img - diff_img\n",
    "    anomaly_img[:, :, 2] = real_img - diff_img\n",
    "    anomaly_img[:, :, 0] = anomaly_img[:,:,0] + diff_img\n",
    "    anomaly_img = anomaly_img.astype(np.uint8)\n",
    "\n",
    "    # anomaly_img 추출\n",
    "    anomaly_imgs.append(anomaly_img)\n",
    "    \n",
    "    fig, plots = plt.subplots(1, 4)\n",
    "\n",
    "    fig.suptitle(f'Anomaly - (anomaly score: {score:.4})')\n",
    "    \n",
    "    fig.set_figwidth(9)\n",
    "    fig.set_tight_layout(True)\n",
    "    plots = plots.reshape(-1)\n",
    "    plots[0].imshow(real_img, cmap='gray', label = \"real\")\n",
    "    plots[1].imshow(generated_img, cmap='gray')\n",
    "    plots[2].imshow(diff_img, cmap='gray')\n",
    "    plots[3].imshow(anomaly_img)\n",
    "    \n",
    "    plots[0].set_title('real')\n",
    "    plots[1].set_title('generated')\n",
    "    plots[2].set_title('difference')\n",
    "    plots[3].set_title('Anomaly Detection')\n",
    "    plt.show()"
   ]
  },
  {
   "cell_type": "markdown",
   "metadata": {},
   "source": [
    "# Test"
   ]
  },
  {
   "cell_type": "code",
   "execution_count": null,
   "metadata": {
    "scrolled": false
   },
   "outputs": [],
   "source": [
    "diff_cnts = []\n",
    "diff_points = []\n",
    "anomaly_imgs = []\n",
    "\n",
    "ano_criterion = nn.MSELoss()\n",
    "DC.eval()\n",
    "D.eval()\n",
    "EC.eval()\n",
    "\n",
    "# with open(\"score.csv\", \"w\") as f:\n",
    "#         f.write(\"label,img_distance,anomaly_score,z_distance\\n\")\n",
    "\n",
    "for i, data in enumerate(test_data_loader, 0):\n",
    "    real_img = data[0].to(device)\n",
    "\n",
    "    real_z = EC(real_img) # 진짜 이미지의 latent vector\n",
    "    fake_img = DC(real_z) # DC에 넣어서 가짜 이미지 생성.\n",
    "    fake_z = EC(fake_img) # torch.Size([1, 100]) --> latent 진짜 이미지와 매핑된 가짜 이미지의 latent vector\n",
    "\n",
    "    _, real_feature = D.forward(real_img) # 1, 256\n",
    "    _, fake_feature = D.forward(fake_img)\n",
    "\n",
    "    img_distance = ano_criterion(fake_img, real_img)\n",
    "    loss_feature = ano_criterion(fake_feature, real_feature)\n",
    "\n",
    "    anomaly_score = img_distance + kappa*loss_feature\n",
    "\n",
    "    z_distance = ano_criterion(fake_z, real_z)\n",
    "    \n",
    "#     with open(\"score.csv\", \"a\") as f:\n",
    "#             f.write(f\"{label.item()},{img_distance},\"\n",
    "#                     f\"{anomaly_score},{z_distance}\\n\")\n",
    "            \n",
    "#     print(f\"{label.item()}, {img_distance}, \"\n",
    "#           f\"{anomaly_score}, {z_distance}\\n\")\n",
    "    compare_imgs(real_img, fake_img, i, anomaly_score, reverse = False, threshold = 0.3)"
   ]
  },
  {
   "cell_type": "markdown",
   "metadata": {},
   "source": [
    "---"
   ]
  },
  {
   "cell_type": "markdown",
   "metadata": {},
   "source": [
    "# 분율 추출"
   ]
  },
  {
   "cell_type": "code",
   "execution_count": null,
   "metadata": {},
   "outputs": [],
   "source": [
    "diff_cnts = np.array(diff_cnts)\n",
    "\n",
    "diff_fraction = diff_cnts / img_size ** 2\n",
    "\n",
    "print(diff_fraction)"
   ]
  },
  {
   "cell_type": "code",
   "execution_count": null,
   "metadata": {},
   "outputs": [],
   "source": [
    "sum(diff_fraction) / len(diff_fraction)"
   ]
  },
  {
   "cell_type": "markdown",
   "metadata": {},
   "source": [
    "---"
   ]
  },
  {
   "cell_type": "markdown",
   "metadata": {},
   "source": [
    "# 분산 추출"
   ]
  },
  {
   "cell_type": "code",
   "execution_count": null,
   "metadata": {},
   "outputs": [],
   "source": [
    "from scipy import stats\n",
    "from extended_int import int_inf\n",
    "\n",
    "corr_coeffis = []\n",
    "corr_p_vals = []\n",
    "\n",
    "def cal_corr_coeffis():\n",
    "    for idx in range(len(test_data_loader)):\n",
    "        x_points = diff_points[idx][0]\n",
    "        y_points = diff_points[idx][1]\n",
    "        \n",
    "        \n",
    "        if len(x_points) > 0:\n",
    "            corr_coeffi, corr_p_val = stats.pearsonr(x_points, y_points)\n",
    "        else:\n",
    "            corr_coeffi, corr_p_val = -int_inf, -int_inf\n",
    "        \n",
    "        corr_coeffis.append(corr_coeffi)\n",
    "        corr_p_vals.append(corr_p_val)"
   ]
  },
  {
   "cell_type": "code",
   "execution_count": null,
   "metadata": {},
   "outputs": [],
   "source": [
    "cal_corr_coeffis()\n",
    "\n",
    "print(corr_coeffis)"
   ]
  },
  {
   "cell_type": "markdown",
   "metadata": {},
   "source": [
    "---"
   ]
  },
  {
   "cell_type": "markdown",
   "metadata": {},
   "source": [
    "# 모델 저장 및 읽기"
   ]
  },
  {
   "cell_type": "code",
   "execution_count": null,
   "metadata": {},
   "outputs": [],
   "source": [
    "save_file = \"./pretrained/pretrained.pth\"\n",
    "\n",
    "def save_pretrained():\n",
    "    pretrained = {\n",
    "        \"D\" : D.state_dict(),\n",
    "        \"DC\" : DC.state_dict(),\n",
    "        \"EC\" : EC.state_dict()\n",
    "    }\n",
    "\n",
    "    if not os.path.isdir(\"pretrained\"):\n",
    "        os.mkdir(\"pretrained\")\n",
    "    torch.save(pretrained, save_file)"
   ]
  },
  {
   "cell_type": "code",
   "execution_count": null,
   "metadata": {},
   "outputs": [],
   "source": [
    "save_pretrained()"
   ]
  },
  {
   "cell_type": "code",
   "execution_count": null,
   "metadata": {},
   "outputs": [],
   "source": [
    "pretrained_D = Discriminator().to(device)\n",
    "pretrained_DC = Decoder().to(device)\n",
    "pretrained_EC = Encoder().to(device)\n",
    "\n",
    "def load_pretrained():\n",
    "    global pretrained_D\n",
    "    global pretrained_DC\n",
    "    global pretrained_EC\n",
    "    \n",
    "    assert os.path.isdir(\"pretrained\"), \"Error : no pretrained dir found!\"\n",
    "    \n",
    "    pretrained = torch.load(save_file)\n",
    "    \n",
    "    pretrained_D.load_state_dict(pretrained[\"D\"])\n",
    "    pretrained_DC.load_state_dict(pretrained[\"DC\"])\n",
    "    pretrained_EC.load_state_dict(pretrained[\"EC\"])\n",
    "    \n",
    "    #print(\"pretrained_D :\", pretrained_D)\n",
    "    #print(\"pretrained_G :\", pretrained_DC)\n",
    "    #print(\"pretrained_E :\", pretrained_EC)"
   ]
  },
  {
   "cell_type": "code",
   "execution_count": null,
   "metadata": {},
   "outputs": [],
   "source": [
    "load_pretrained()"
   ]
  },
  {
   "cell_type": "code",
   "execution_count": null,
   "metadata": {},
   "outputs": [],
   "source": [
    "def test():\n",
    "    ano_criterion = nn.MSELoss()\n",
    "    pretrained_DC.eval()\n",
    "    pretrained_D.eval()\n",
    "    pretrained_EC.eval()\n",
    "\n",
    "    # with open(\"score.csv\", \"w\") as f:\n",
    "    #         f.write(\"label,img_distance,anomaly_score,z_distance\\n\")\n",
    "\n",
    "    for i, data in enumerate(test_data_loader, 0):\n",
    "        real_img = data[0].to(device)\n",
    "\n",
    "        real_z = pretrained_EC(real_img) # 진짜 이미지의 latent vector\n",
    "        fake_img = pretrained_DC(real_z) # DC에 넣어서 가짜 이미지 생성.\n",
    "        fake_z = pretrained_EC(fake_img) # torch.Size([1, 100]) --> latent 진짜 이미지와 매핑된 가짜 이미지의 latent vector\n",
    "\n",
    "        _, real_feature = pretrained_D.forward(real_img) # 1, 256\n",
    "        _, fake_feature = pretrained_D.forward(fake_img)\n",
    "\n",
    "        img_distance = ano_criterion(fake_img, real_img)\n",
    "        loss_feature = ano_criterion(fake_feature, real_feature)\n",
    "\n",
    "        anomaly_score = img_distance + kappa*loss_feature\n",
    "\n",
    "        z_distance = ano_criterion(fake_z, real_z)\n",
    "\n",
    "    #     with open(\"score.csv\", \"a\") as f:\n",
    "    #             f.write(f\"{label.item()},{img_distance},\"\n",
    "    #                     f\"{anomaly_score},{z_distance}\\n\")\n",
    "\n",
    "    #     print(f\"{label.item()}, {img_distance}, \"\n",
    "    #           f\"{anomaly_score}, {z_distance}\\n\")\n",
    "        compare_imgs(real_img, fake_img, i, anomaly_score, reverse = False, threshold = 0.3)"
   ]
  },
  {
   "cell_type": "code",
   "execution_count": null,
   "metadata": {},
   "outputs": [],
   "source": [
    "diff_cnts = []\n",
    "diff_points = []\n",
    "anomaly_imgs = []\n",
    "\n",
    "corr_coeffis = []\n",
    "corr_p_vals = []\n",
    "\n",
    "test()"
   ]
  },
  {
   "cell_type": "code",
   "execution_count": null,
   "metadata": {},
   "outputs": [],
   "source": [
    "diff_cnts = np.array(diff_cnts)\n",
    "\n",
    "diff_fraction = diff_cnts / img_size ** 2\n",
    "\n",
    "print(diff_fraction)"
   ]
  },
  {
   "cell_type": "code",
   "execution_count": null,
   "metadata": {},
   "outputs": [],
   "source": [
    "cal_corr_coeffis()\n",
    "\n",
    "print(corr_coeffis)"
   ]
  },
  {
   "cell_type": "markdown",
   "metadata": {},
   "source": [
    "---"
   ]
  },
  {
   "cell_type": "markdown",
   "metadata": {},
   "source": [
    "# anomaly detection 이미지 추출"
   ]
  },
  {
   "cell_type": "code",
   "execution_count": null,
   "metadata": {},
   "outputs": [],
   "source": [
    "anomaly_imgs"
   ]
  },
  {
   "cell_type": "markdown",
   "metadata": {},
   "source": [
    "# 이미지 저장 함수"
   ]
  },
  {
   "cell_type": "code",
   "execution_count": null,
   "metadata": {},
   "outputs": [],
   "source": [
    "import cv2\n",
    "\n",
    "def save_imgs(folder, imgs):\n",
    "    if not os.path.isdir(\"anomaly_imgs\"):\n",
    "        os.mkdir(\"anomaly_imgs\")\n",
    "    \n",
    "    for i in range(len(imgs)):\n",
    "        cv2.imwrite('%s/%d.png' %(folder,i), imgs[i]) #이미지 저장할 경로 설정을 여기서 한다.\n",
    "    print(\"image saving complete\")"
   ]
  },
  {
   "cell_type": "code",
   "execution_count": null,
   "metadata": {},
   "outputs": [],
   "source": [
    "save_imgs(\"./anomaly_imgs\", anomaly_imgs)"
   ]
  },
  {
   "cell_type": "markdown",
   "metadata": {},
   "source": [
    "---"
   ]
  },
  {
   "cell_type": "markdown",
   "metadata": {},
   "source": [
    "# 티타늄(Ti64) 상대 밀도 계산"
   ]
  },
  {
   "cell_type": "code",
   "execution_count": null,
   "metadata": {},
   "outputs": [],
   "source": [
    "Ti64_density = 4.43\n",
    "\n",
    "Ti64_rel_densitys = np.array([])\n",
    "\n",
    "Ti64_rel_densitys = diff_fraction * Ti64_density\n",
    "\n",
    "print(Ti64_rel_densitys)"
   ]
  },
  {
   "cell_type": "code",
   "execution_count": null,
   "metadata": {},
   "outputs": [],
   "source": []
  }
 ],
 "metadata": {
  "kernelspec": {
   "display_name": "PyTorch",
   "language": "python",
   "name": "pytorch"
  },
  "language_info": {
   "codemirror_mode": {
    "name": "ipython",
    "version": 3
   },
   "file_extension": ".py",
   "mimetype": "text/x-python",
   "name": "python",
   "nbconvert_exporter": "python",
   "pygments_lexer": "ipython3",
   "version": "3.6.2"
  }
 },
 "nbformat": 4,
 "nbformat_minor": 4
}
