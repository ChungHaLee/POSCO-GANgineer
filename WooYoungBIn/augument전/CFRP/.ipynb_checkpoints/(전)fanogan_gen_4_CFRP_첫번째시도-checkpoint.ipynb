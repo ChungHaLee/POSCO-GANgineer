{
 "cells": [
  {
   "cell_type": "markdown",
   "metadata": {},
   "source": [
    "# fAnoGAN_agu전\n",
    "\n",
    "- parameter   \n",
    "  : learning_rate = 5e-2  \n",
    "  : learning_G_per_D=30"
   ]
  },
  {
   "cell_type": "markdown",
   "metadata": {},
   "source": [
    "--- "
   ]
  },
  {
   "cell_type": "markdown",
   "metadata": {},
   "source": [
    "# Module"
   ]
  },
  {
   "cell_type": "code",
   "execution_count": 1,
   "metadata": {},
   "outputs": [],
   "source": [
    "import torch\n",
    "import torch.nn as nn\n",
    "import torchvision\n",
    "from torchvision import transforms\n",
    "from torchvision.utils import save_image\n",
    "import os\n",
    "import numpy as np\n",
    "\n",
    "import torchvision.datasets as dataset\n",
    "import torchvision.transforms as transforms\n",
    "import torchvision.utils as vutils\n",
    "\n",
    "# Graph & Animation\n",
    "import matplotlib.pyplot as plt\n",
    "import matplotlib.animation as animation\n",
    "from IPython.display import HTML"
   ]
  },
  {
   "cell_type": "markdown",
   "metadata": {},
   "source": [
    "# Hyper Parameter"
   ]
  },
  {
   "cell_type": "code",
   "execution_count": 2,
   "metadata": {},
   "outputs": [],
   "source": [
    "latent_size = 100  # z벡터의 잠재공간(latent space)의 크기\n",
    "workers = 4    # 0일때, 약 20% 사용 4일 경우 메모리 100%\n",
    "img_size = 64\n",
    "channel = 1\n",
    "epochs = 100\n",
    "batch_size = 64\n",
    "learning_rate = 5e-2"
   ]
  },
  {
   "cell_type": "markdown",
   "metadata": {},
   "source": [
    "# Data and Device"
   ]
  },
  {
   "cell_type": "code",
   "execution_count": 3,
   "metadata": {},
   "outputs": [
    {
     "name": "stdout",
     "output_type": "stream",
     "text": [
      "size of dataset : 92\n",
      "device : cuda:0\n"
     ]
    }
   ],
   "source": [
    "# 이미지 경로, 이미지들 리사이즈 및 텐서형태로 만들기\n",
    "data_root = \"/home/piai/Desktop/train\"\n",
    "\n",
    "data_set = dataset.ImageFolder(root = data_root,\n",
    "                           transform = transforms.Compose([\n",
    "                                  #transforms.Resize(img_size),\n",
    "                                  transforms.CenterCrop(img_size),\n",
    "                                  torchvision.transforms.Grayscale(channel),\n",
    "                                  transforms.ToTensor(),\n",
    "                                  transforms.Normalize((0.5,),(0.5,))\n",
    "                              ]))\n",
    "\n",
    "print(\"size of dataset :\", len(data_set))\n",
    "\n",
    "# 배치로 나누고 셔플하기\n",
    "data_loader = torch.utils.data.DataLoader(data_set, batch_size = batch_size,\n",
    "                                         shuffle = True, num_workers = workers, drop_last=True)\n",
    "\n",
    "# Device setting (GPU or CPU)\n",
    "device = torch.device('cuda:0' if torch.cuda.is_available() else 'cpu')\n",
    "print(\"device :\", device)"
   ]
  },
  {
   "cell_type": "markdown",
   "metadata": {},
   "source": [
    "# MODEL"
   ]
  },
  {
   "cell_type": "code",
   "execution_count": 4,
   "metadata": {},
   "outputs": [],
   "source": [
    "# fast AnoGAN : Generative Adversarial Networks Model with AutoEncoder\n",
    "\n",
    "# === Generator 모델 ===\n",
    "class Generator(nn.Module):\n",
    "    def __init__(self):\n",
    "        super(Generator,self).__init__()\n",
    "        \n",
    "        # Batch Normalization 유무에 따른 G_block 정의\n",
    "        def G_block(in_features, out_features, FIRST=True):\n",
    "            if FIRST:\n",
    "                block = [\n",
    "                    nn.ConvTranspose2d(in_features, out_features, 4, 1, 0, bias=False),\n",
    "                    nn.BatchNorm2d(out_features),\n",
    "                    nn.ReLU()\n",
    "                ]\n",
    "            else:\n",
    "                block = [\n",
    "                    nn.ConvTranspose2d(in_features, out_features, 4, 2, 1, bias=False),\n",
    "                    nn.BatchNorm2d(out_features),\n",
    "                    nn.ReLU()\n",
    "                ]\n",
    "            return block\n",
    "        \n",
    "        \n",
    "        # ======================= 픽셀 분포 생성 layer ======================= \n",
    "        self.G_gen_distribution = nn.Sequential(\n",
    "            # ------ input is latent_size 100 ------ \n",
    "            *G_block(latent_size, img_size*8, FIRST=True),\n",
    "            # ------ state size is 512x4x4 ------ \n",
    "            *G_block(img_size*8, img_size*4, FIRST=False),\n",
    "            # ------ state size is 256x8x8 ------ \n",
    "            *G_block(img_size*4, img_size*2, FIRST=False),\n",
    "            # ------ state size is 128x16x16 ------ \n",
    "            *G_block(img_size*2, img_size, FIRST=False),\n",
    "        )\n",
    "        \n",
    "        # =================== 가짜 이미지 생성 layer =================== \n",
    "        self.G_gen_fake_img = nn.Sequential(\n",
    "            # ------ state size is 64x32x32 ------ \n",
    "            nn.ConvTranspose2d(img_size, 1, 4, 2, 1, bias=False),\n",
    "            nn.Tanh() # 픽셀값의 범위 : -1 ~ 1로 두기 위해서\n",
    "            # ------ state size is 1x64x64 ------ \n",
    "        )\n",
    "    \n",
    "    def forward(self, input):\n",
    "        distribution = self.G_gen_distribution(input)\n",
    "        fake_img = self.G_gen_fake_img(distribution)\n",
    "        \n",
    "        return fake_img\n",
    "\n",
    "\n",
    "# === Discriminator 모델 ===\n",
    "class Discriminator(nn.Module):\n",
    "    def __init__(self):\n",
    "        super(Discriminator, self).__init__()\n",
    "        \n",
    "        # Batch Normalization 유무에 따른 D_block 정의\n",
    "        def D_block(in_features, out_features, BN=True):\n",
    "            if BN:\n",
    "                block = [\n",
    "                    nn.Conv2d(in_features, out_features, 4, 2, 1, bias=False),\n",
    "                    nn.BatchNorm2d(out_features),\n",
    "                    nn.LeakyReLU(0.2, inplace=True)\n",
    "                ]\n",
    "            else:\n",
    "                block = [\n",
    "                    nn.Conv2d(in_features, out_features, 4, 2, 1, bias=False),\n",
    "                    nn.LeakyReLU(0.2, inplace=True)\n",
    "                ]\n",
    "            return block\n",
    "        \n",
    "        \n",
    "        # ============== Feature 추출 layer ==============\n",
    "        self.D_extract_feature = nn.Sequential(\n",
    "            # ------ input is 1 x 64 x 64 ------ \n",
    "            *D_block(channel, img_size, BN=False),\n",
    "            # ------ state is 64 x 32 x 32 ------ \n",
    "            *D_block(img_size, img_size*2, BN=True),\n",
    "            # ------ state is 128 x 16 x 16 ------ \n",
    "            *D_block(img_size*2, img_size*4, BN=True),\n",
    "            # ------ state is 256 x 8 x 8 ------ \n",
    "            *D_block(img_size*4, img_size*8, BN=True)\n",
    "        )\n",
    "        \n",
    "        # ===================== 이진 분류 layer =====================\n",
    "        self.D_classification = nn.Sequential(        \n",
    "            # ------- state size 512x4x4 ------- \n",
    "            nn.Conv2d(img_size*8, channel, 4, 1, 0, bias=False),\n",
    "            #nn.Linear(fms*8*4*4, 1, bias=False),\n",
    "            nn.Sigmoid()        \n",
    "        )\n",
    "        \n",
    "    def forward(self, input):\n",
    "        feature = self.D_extract_feature(input)\n",
    "        classification = self.D_classification(feature)\n",
    "        \n",
    "        return classification, feature\n",
    "\n",
    "\n",
    "# === Encoder Model ===\n",
    "class Encoder(nn.Module):\n",
    "    def __init__(self):\n",
    "        super(Encoder, self).__init__()\n",
    "        \n",
    "        def E_block(in_features, out_features, BN=True):\n",
    "            if BN:\n",
    "                block = [\n",
    "                         nn.Conv2d(in_features, out_features, 4, 2, 1, bias=False),\n",
    "                         nn.BatchNorm2d(out_features),\n",
    "                         nn.LeakyReLU(0.2, inplace=True)\n",
    "                ]\n",
    "            else:\n",
    "                block = [\n",
    "                         nn.Conv2d(in_features, out_features, 4, 2, 3, bias=False),\n",
    "                         nn.LeakyReLU(0.2, inplace=True)\n",
    "                ]\n",
    "            return block\n",
    "        \n",
    "        # ============== Feature 추출 ==============\n",
    "        self.E_extract_feature = nn.Sequential(\n",
    "            # -------input is 1 x 64 x 64-------\n",
    "            *E_block(channel, img_size, BN=False),\n",
    "            # -------state is 64 x 32 x 32-------\n",
    "            *E_block(img_size, img_size*2, BN=True),\n",
    "            # -------state is 128 x 16 x 16-------\n",
    "            *E_block(img_size*2, img_size*4, BN=True),\n",
    "            # -------state is 256 x 8 x 8-------\n",
    "            *E_block(img_size*4, img_size*8, BN=True),\n",
    "        )\n",
    "        \n",
    "        # =============== Encoder Training layer ===============\n",
    "        self.E_validate = nn.Sequential(\n",
    "            # -------state is 512 x 4 x 4-------\n",
    "            nn.Conv2d(img_size*8, latent_size, 4, 1, 0, bias=False),\n",
    "            nn.Tanh()\n",
    "            # -------state is 100 x 97 x 97-------\n",
    "        )\n",
    "        \n",
    "    def forward(self, input):\n",
    "        feature = self.E_extract_feature(input)\n",
    "        validity = self.E_validate(feature)\n",
    "        \n",
    "        return validity"
   ]
  },
  {
   "cell_type": "markdown",
   "metadata": {},
   "source": [
    "# Loss & Optim"
   ]
  },
  {
   "cell_type": "code",
   "execution_count": 5,
   "metadata": {},
   "outputs": [],
   "source": [
    "# G and D 무게 초기화, classname 에 찾는 name가 없다면 -1 ,\n",
    "def weights_init(m):\n",
    "    classname = m.__class__.__name__\n",
    "    if classname.find('Conv') != -1:\n",
    "        nn.init.normal_(m.weight.data, 0.0, 0.02)\n",
    "    elif classname.find('BatchNorm') != -1:\n",
    "        nn.init.normal_(m.weight.data, 0.0, 0.02)\n",
    "        nn.init.constant_(m.bias.data, 0)\n",
    "\n",
    "\n",
    "# D,G,E 네트워크 모델 객체 선언\n",
    "D = Discriminator().to(device)\n",
    "G = Generator().to(device)\n",
    "E = Encoder().to(device)\n",
    "\n",
    "# weight initialize/ nn.Module 클래스 안에 apply 함수가 정의되 있음, 각 함수들에 다 적용 하게한다\n",
    "D.apply(weights_init)\n",
    "G.apply(weights_init)\n",
    "E.apply(weights_init)\n",
    "\n",
    "# Binary cross entropy loss and optimizer\n",
    "DCGAN_criterion = nn.BCELoss()\n",
    "AE_criterion = nn.MSELoss()\n",
    "\n",
    "# latent vector에 배치 사이즈 64를 적용\n",
    "# 학습한 G로 새로운 것 만들어서 결과 확인 할때 사용\n",
    "noise_z = torch.randn(img_size, latent_size, 1, 1, device = device)\n",
    "\n",
    "# D와 G에 대해 두가지 최적화 설정\n",
    "D_optimizer = torch.optim.Adam(D.parameters(), lr = learning_rate, betas=(0.5,0.999))\n",
    "G_optimizer = torch.optim.Adam(G.parameters(), lr = learning_rate, betas=(0.5,0.999))\n",
    "E_optimizer = torch.optim.Adam(E.parameters(), lr = learning_rate, betas=(0.5,0.999))\n",
    "\n",
    "#print(D)\n",
    "#print(G)\n",
    "#print(E)\n",
    "\n",
    "def reset_grad():\n",
    "    D_optimizer.zero_grad()\n",
    "    G_optimizer.zero_grad()"
   ]
  },
  {
   "cell_type": "markdown",
   "metadata": {},
   "source": [
    "---"
   ]
  },
  {
   "cell_type": "markdown",
   "metadata": {},
   "source": [
    "# Train DCGAN"
   ]
  },
  {
   "cell_type": "code",
   "execution_count": 6,
   "metadata": {},
   "outputs": [],
   "source": [
    "img_list = []\n",
    "G_losses = []\n",
    "D_losses = []\n",
    "iters = 0\n",
    "\n",
    "def train_DCGAN(epoch, learning_G_per_D = 8):\n",
    "    global epochs\n",
    "    global iters\n",
    "    \n",
    "    # 인덱스 0부터 세기 시작\n",
    "    # data[0].size():64x1x64x64(image) / data[1].size():64(label)\n",
    "    for i,data in enumerate(data_loader,0):\n",
    "        \n",
    "        # Train D\n",
    "        real_img = data[0].to(device) # image size: 64x1x64x64(batch, channel, width, height)\n",
    "        b_size = real_img.size(0) # b_size = 64\n",
    "        real_labels = torch.ones(b_size, 1).to(device)\n",
    "        fake_labels = torch.zeros(b_size, 1).to(device)\n",
    "        \n",
    "        # (--------------------------real-----------------------------)\n",
    "        real_classification, _ = D(real_img) # output = D(x)\n",
    "        real_loss = DCGAN_criterion(real_classification, real_labels) # D(x)=1일 때의 loss\n",
    "        real_score = real_classification\n",
    "        D_x = real_score.mean().item() \n",
    "            \n",
    "        # (--------------------------fake-----------------------------)\n",
    "        z = torch.randn(b_size, latent_size, 1, 1).to(device) # z size :64x100x1x1\n",
    "        fake_img = G(z)\n",
    "        fake_classification, _ = D(fake_img) # output = D(G(z))\n",
    "        fake_loss = DCGAN_criterion(fake_classification, fake_labels) # D(G(z))=0일 때의 loss\n",
    "        fake_score = fake_classification\n",
    "        D_G_z1 = fake_score.mean().item()\n",
    "\n",
    "        # (------------------Backprop and optimize---------------------)\n",
    "        D_loss = real_loss + fake_loss\n",
    "        reset_grad()\n",
    "        D_loss.backward()\n",
    "        D_optimizer.step() # D(x)=1, D(G(z))=0이어야 D가 최적\n",
    "\n",
    "        \n",
    "        # Train G\n",
    "        #z = torch.randn(b_size,latent_size,1,1,device=device) # z size :64x100x1x1\n",
    "        for k in range(learning_G_per_D):\n",
    "            fake_img = G(z)\n",
    "            fake_classification,_ = D(fake_img)  # output : D(G(z))\n",
    "            D_G_z2 = fake_classification.mean().item()\n",
    "            G_loss = DCGAN_criterion(fake_classification, real_labels) # D(G(z))=1일 때의 loss=log(D(G(z)))\n",
    "\n",
    "            # (------------------Backprop and optimize---------------------)\n",
    "            reset_grad()\n",
    "            G_loss.backward()\n",
    "            G_optimizer.step() # D(G(z))=1 이어야 G가 최적\n",
    "            # ==> D(G(z))의 값이 0.5로 수렴해야 한다.\n",
    "        \n",
    "        \n",
    "        # print\n",
    "        print('[%d/%d][%d/%d]\\n- D_loss : %.4f / G_loss : %.4f\\n- D(x):%.4f / D(G(z1)) : %.4f / D(G(z2)) : %.4f' \n",
    "                   %(epoch+1, epochs, i, len(data_loader),D_loss.item(),\n",
    "                     G_loss.item(),D_x,D_G_z1,D_G_z2))\n",
    "        \n",
    "        # Save Losses for plotting later\n",
    "        G_losses.append(G_loss.item())\n",
    "        D_losses.append(D_loss.item())\n",
    "        \n",
    "        #Check how the generator is doing by saving G's output on noise_z\n",
    "        if (iters % 500 == 0) or ((epoch == epochs-1) and (i == len(data_loader)-1)):\n",
    "            with torch.no_grad():\n",
    "                fake = G(noise_z).detach().cpu()\n",
    "            img_list.append(vutils.make_grid(fake, padding=2, normalize=True))\n",
    "            \n",
    "        iters += 1\n",
    "        \n",
    "#torch.save(E.state_dict(), 'E.ckpt')"
   ]
  },
  {
   "cell_type": "code",
   "execution_count": null,
   "metadata": {},
   "outputs": [
    {
     "name": "stderr",
     "output_type": "stream",
     "text": [
      "/home/piai/anaconda3/envs/pytorch/lib/python3.7/site-packages/torch/nn/modules/loss.py:529: UserWarning: Using a target size (torch.Size([64, 1])) that is different to the input size (torch.Size([64, 1, 1, 1])) is deprecated. Please ensure they have the same size.\n",
      "  return F.binary_cross_entropy(input, target, weight=self.weight, reduction=self.reduction)\n"
     ]
    },
    {
     "name": "stdout",
     "output_type": "stream",
     "text": [
      "[1/100][0/1]\n",
      "- D_loss : 1.3871 / G_loss : 0.0001\n",
      "- D(x):0.4992 / D(G(z1)) : 0.4995 / D(G(z2)) : 0.9999\n",
      "[2/100][0/1]\n",
      "- D_loss : 9.2903 / G_loss : 6.7511\n",
      "- D(x):0.9995 / D(G(z1)) : 0.9999 / D(G(z2)) : 0.0012\n",
      "[3/100][0/1]\n",
      "- D_loss : 7.6960 / G_loss : 0.2245\n",
      "- D(x):0.0006 / D(G(z1)) : 0.0011 / D(G(z2)) : 0.7989\n",
      "[4/100][0/1]\n",
      "- D_loss : 2.6960 / G_loss : 0.7019\n",
      "- D(x):0.4207 / D(G(z1)) : 0.7922 / D(G(z2)) : 0.4959\n",
      "[5/100][0/1]\n",
      "- D_loss : 2.1644 / G_loss : 0.1829\n",
      "- D(x):0.2346 / D(G(z1)) : 0.4051 / D(G(z2)) : 0.8328\n",
      "[6/100][0/1]\n",
      "- D_loss : 1.7510 / G_loss : 1.0608\n",
      "- D(x):0.7233 / D(G(z1)) : 0.7385 / D(G(z2)) : 0.3495\n",
      "[7/100][0/1]\n",
      "- D_loss : 1.9709 / G_loss : 0.1428\n",
      "- D(x):0.2272 / D(G(z1)) : 0.3035 / D(G(z2)) : 0.8670\n",
      "[8/100][0/1]\n",
      "- D_loss : 1.8333 / G_loss : 1.1110\n",
      "- D(x):0.8015 / D(G(z1)) : 0.7906 / D(G(z2)) : 0.3306\n",
      "[9/100][0/1]\n",
      "- D_loss : 1.3828 / G_loss : 0.6246\n",
      "- D(x):0.3515 / D(G(z1)) : 0.2829 / D(G(z2)) : 0.5378\n",
      "[10/100][0/1]\n",
      "- D_loss : 1.2037 / G_loss : 0.6942\n",
      "- D(x):0.5717 / D(G(z1)) : 0.4682 / D(G(z2)) : 0.5020\n",
      "[11/100][0/1]\n",
      "- D_loss : 1.2370 / G_loss : 1.1272\n",
      "- D(x):0.5323 / D(G(z1)) : 0.4478 / D(G(z2)) : 0.3464\n",
      "[12/100][0/1]\n",
      "- D_loss : 1.2889 / G_loss : 0.3870\n",
      "- D(x):0.4060 / D(G(z1)) : 0.2947 / D(G(z2)) : 0.6847\n",
      "[13/100][0/1]\n",
      "- D_loss : 1.2485 / G_loss : 5.0682\n",
      "- D(x):0.8426 / D(G(z1)) : 0.6459 / D(G(z2)) : 0.0068\n",
      "[14/100][0/1]\n",
      "- D_loss : 6.2161 / G_loss : 0.0301\n",
      "- D(x):0.0049 / D(G(z1)) : 0.0058 / D(G(z2)) : 0.9703\n",
      "[15/100][0/1]\n",
      "- D_loss : 3.5561 / G_loss : 1.2942\n",
      "- D(x):0.9614 / D(G(z1)) : 0.9703 / D(G(z2)) : 0.2748\n",
      "[16/100][0/1]\n",
      "- D_loss : 0.9680 / G_loss : 3.8871\n",
      "- D(x):0.5255 / D(G(z1)) : 0.2729 / D(G(z2)) : 0.0205\n",
      "[17/100][0/1]\n",
      "- D_loss : 1.0289 / G_loss : 2.9133\n",
      "- D(x):0.3981 / D(G(z1)) : 0.0205 / D(G(z2)) : 0.0546\n",
      "[18/100][0/1]\n",
      "- D_loss : 0.1902 / G_loss : 0.0005\n",
      "- D(x):0.8727 / D(G(z1)) : 0.0509 / D(G(z2)) : 0.9995\n",
      "[19/100][0/1]\n",
      "- D_loss : 7.6505 / G_loss : 0.6446\n",
      "- D(x):0.9810 / D(G(z1)) : 0.9994 / D(G(z2)) : 0.5249\n",
      "[20/100][0/1]\n",
      "- D_loss : 2.2605 / G_loss : 1.0858\n",
      "- D(x):0.4787 / D(G(z1)) : 0.5121 / D(G(z2)) : 0.3736\n",
      "[21/100][0/1]\n",
      "- D_loss : 1.6818 / G_loss : 0.9364\n",
      "- D(x):0.3049 / D(G(z1)) : 0.2936 / D(G(z2)) : 0.3932\n",
      "[22/100][0/1]\n",
      "- D_loss : 0.8185 / G_loss : 5.3311\n",
      "- D(x):0.6579 / D(G(z1)) : 0.3237 / D(G(z2)) : 0.0049\n",
      "[23/100][0/1]\n",
      "- D_loss : 0.3628 / G_loss : 1.7113\n",
      "- D(x):0.7008 / D(G(z1)) : 0.0047 / D(G(z2)) : 0.1813\n",
      "[24/100][0/1]\n",
      "- D_loss : 0.1610 / G_loss : 9.3919\n",
      "- D(x):0.9895 / D(G(z1)) : 0.1390 / D(G(z2)) : 0.0001\n",
      "[25/100][0/1]\n",
      "- D_loss : 0.0195 / G_loss : 12.2630\n",
      "- D(x):0.9809 / D(G(z1)) : 0.0001 / D(G(z2)) : 0.0000\n",
      "[26/100][0/1]\n",
      "- D_loss : 0.0157 / G_loss : 13.5000\n",
      "- D(x):0.9844 / D(G(z1)) : 0.0000 / D(G(z2)) : 0.0000\n",
      "[27/100][0/1]\n",
      "- D_loss : 0.0098 / G_loss : 13.9594\n",
      "- D(x):0.9903 / D(G(z1)) : 0.0000 / D(G(z2)) : 0.0000\n",
      "[28/100][0/1]\n",
      "- D_loss : 0.0074 / G_loss : 14.0203\n",
      "- D(x):0.9926 / D(G(z1)) : 0.0000 / D(G(z2)) : 0.0000\n",
      "[29/100][0/1]\n",
      "- D_loss : 0.0042 / G_loss : 13.9655\n",
      "- D(x):0.9958 / D(G(z1)) : 0.0000 / D(G(z2)) : 0.0000\n",
      "[30/100][0/1]\n",
      "- D_loss : 0.0028 / G_loss : 13.8794\n",
      "- D(x):0.9972 / D(G(z1)) : 0.0000 / D(G(z2)) : 0.0000\n",
      "[31/100][0/1]\n",
      "- D_loss : 0.0020 / G_loss : 13.7866\n",
      "- D(x):0.9980 / D(G(z1)) : 0.0000 / D(G(z2)) : 0.0000\n",
      "[32/100][0/1]\n",
      "- D_loss : 0.0015 / G_loss : 13.7007\n",
      "- D(x):0.9985 / D(G(z1)) : 0.0000 / D(G(z2)) : 0.0000\n",
      "[33/100][0/1]\n",
      "- D_loss : 0.0016 / G_loss : 13.6182\n",
      "- D(x):0.9984 / D(G(z1)) : 0.0000 / D(G(z2)) : 0.0000\n",
      "[34/100][0/1]\n",
      "- D_loss : 0.0015 / G_loss : 13.5360\n",
      "- D(x):0.9985 / D(G(z1)) : 0.0000 / D(G(z2)) : 0.0000\n",
      "[35/100][0/1]\n",
      "- D_loss : 0.0012 / G_loss : 13.4615\n",
      "- D(x):0.9988 / D(G(z1)) : 0.0000 / D(G(z2)) : 0.0000\n",
      "[36/100][0/1]\n",
      "- D_loss : 0.0012 / G_loss : 13.3906\n",
      "- D(x):0.9988 / D(G(z1)) : 0.0000 / D(G(z2)) : 0.0000\n",
      "[37/100][0/1]\n",
      "- D_loss : 0.0011 / G_loss : 13.3228\n",
      "- D(x):0.9989 / D(G(z1)) : 0.0000 / D(G(z2)) : 0.0000\n",
      "[38/100][0/1]\n",
      "- D_loss : 0.0011 / G_loss : 13.2555\n",
      "- D(x):0.9989 / D(G(z1)) : 0.0000 / D(G(z2)) : 0.0000\n",
      "[39/100][0/1]\n",
      "- D_loss : 0.0006 / G_loss : 13.2055\n",
      "- D(x):0.9994 / D(G(z1)) : 0.0000 / D(G(z2)) : 0.0000\n",
      "[40/100][0/1]\n",
      "- D_loss : 0.0006 / G_loss : 13.1616\n",
      "- D(x):0.9994 / D(G(z1)) : 0.0000 / D(G(z2)) : 0.0000\n",
      "[41/100][0/1]\n",
      "- D_loss : 0.0010 / G_loss : 13.1081\n",
      "- D(x):0.9990 / D(G(z1)) : 0.0000 / D(G(z2)) : 0.0000\n",
      "[42/100][0/1]\n",
      "- D_loss : 0.0006 / G_loss : 13.0649\n",
      "- D(x):0.9994 / D(G(z1)) : 0.0000 / D(G(z2)) : 0.0000\n",
      "[43/100][0/1]\n",
      "- D_loss : 0.0006 / G_loss : 13.0240\n",
      "- D(x):0.9994 / D(G(z1)) : 0.0000 / D(G(z2)) : 0.0000\n",
      "[44/100][0/1]\n",
      "- D_loss : 0.0006 / G_loss : 12.9825\n",
      "- D(x):0.9994 / D(G(z1)) : 0.0000 / D(G(z2)) : 0.0000\n",
      "[45/100][0/1]\n",
      "- D_loss : 0.0005 / G_loss : 12.9468\n",
      "- D(x):0.9995 / D(G(z1)) : 0.0000 / D(G(z2)) : 0.0000\n",
      "[46/100][0/1]\n",
      "- D_loss : 0.0005 / G_loss : 12.9105\n",
      "- D(x):0.9995 / D(G(z1)) : 0.0000 / D(G(z2)) : 0.0000\n",
      "[47/100][0/1]\n",
      "- D_loss : 0.0004 / G_loss : 12.8802\n",
      "- D(x):0.9996 / D(G(z1)) : 0.0000 / D(G(z2)) : 0.0000\n",
      "[48/100][0/1]\n",
      "- D_loss : 0.0004 / G_loss : 12.8499\n",
      "- D(x):0.9996 / D(G(z1)) : 0.0000 / D(G(z2)) : 0.0000\n",
      "[49/100][0/1]\n",
      "- D_loss : 0.0004 / G_loss : 12.8212\n",
      "- D(x):0.9996 / D(G(z1)) : 0.0000 / D(G(z2)) : 0.0000\n",
      "[50/100][0/1]\n",
      "- D_loss : 0.0004 / G_loss : 12.7908\n",
      "- D(x):0.9996 / D(G(z1)) : 0.0000 / D(G(z2)) : 0.0000\n",
      "[51/100][0/1]\n",
      "- D_loss : 0.0005 / G_loss : 12.7582\n",
      "- D(x):0.9995 / D(G(z1)) : 0.0000 / D(G(z2)) : 0.0000\n",
      "[52/100][0/1]\n",
      "- D_loss : 0.0003 / G_loss : 12.7301\n",
      "- D(x):0.9997 / D(G(z1)) : 0.0000 / D(G(z2)) : 0.0000\n",
      "[53/100][0/1]\n",
      "- D_loss : 0.0004 / G_loss : 12.7025\n",
      "- D(x):0.9996 / D(G(z1)) : 0.0000 / D(G(z2)) : 0.0000\n",
      "[54/100][0/1]\n",
      "- D_loss : 0.0003 / G_loss : 12.6771\n",
      "- D(x):0.9997 / D(G(z1)) : 0.0000 / D(G(z2)) : 0.0000\n",
      "[55/100][0/1]\n",
      "- D_loss : 0.0003 / G_loss : 12.6548\n",
      "- D(x):0.9997 / D(G(z1)) : 0.0000 / D(G(z2)) : 0.0000\n",
      "[56/100][0/1]\n",
      "- D_loss : 0.0003 / G_loss : 12.6322\n",
      "- D(x):0.9997 / D(G(z1)) : 0.0000 / D(G(z2)) : 0.0000\n",
      "[57/100][0/1]\n",
      "- D_loss : 0.0003 / G_loss : 12.6117\n",
      "- D(x):0.9998 / D(G(z1)) : 0.0000 / D(G(z2)) : 0.0000\n",
      "[58/100][0/1]\n",
      "- D_loss : 0.0006 / G_loss : 12.5731\n",
      "- D(x):0.9994 / D(G(z1)) : 0.0000 / D(G(z2)) : 0.0000\n",
      "[59/100][0/1]\n",
      "- D_loss : 0.0003 / G_loss : 12.5434\n",
      "- D(x):0.9997 / D(G(z1)) : 0.0000 / D(G(z2)) : 0.0000\n",
      "[60/100][0/1]\n",
      "- D_loss : 0.0004 / G_loss : 12.5136\n",
      "- D(x):0.9996 / D(G(z1)) : 0.0000 / D(G(z2)) : 0.0000\n",
      "[61/100][0/1]\n",
      "- D_loss : 0.0003 / G_loss : 12.4889\n",
      "- D(x):0.9998 / D(G(z1)) : 0.0000 / D(G(z2)) : 0.0000\n",
      "[62/100][0/1]\n",
      "- D_loss : 0.0002 / G_loss : 12.4676\n",
      "- D(x):0.9998 / D(G(z1)) : 0.0000 / D(G(z2)) : 0.0000\n",
      "[63/100][0/1]\n",
      "- D_loss : 0.0002 / G_loss : 12.4488\n",
      "- D(x):0.9998 / D(G(z1)) : 0.0000 / D(G(z2)) : 0.0000\n",
      "[64/100][0/1]\n",
      "- D_loss : 0.0002 / G_loss : 12.4319\n",
      "- D(x):0.9998 / D(G(z1)) : 0.0000 / D(G(z2)) : 0.0000\n",
      "[65/100][0/1]\n",
      "- D_loss : 0.0002 / G_loss : 12.4132\n",
      "- D(x):0.9998 / D(G(z1)) : 0.0000 / D(G(z2)) : 0.0000\n",
      "[66/100][0/1]\n",
      "- D_loss : 0.0003 / G_loss : 12.3908\n",
      "- D(x):0.9997 / D(G(z1)) : 0.0000 / D(G(z2)) : 0.0000\n",
      "[67/100][0/1]\n",
      "- D_loss : 0.0002 / G_loss : 12.3722\n",
      "- D(x):0.9998 / D(G(z1)) : 0.0000 / D(G(z2)) : 0.0000\n",
      "[68/100][0/1]\n",
      "- D_loss : 0.0002 / G_loss : 12.3546\n",
      "- D(x):0.9998 / D(G(z1)) : 0.0000 / D(G(z2)) : 0.0000\n",
      "[69/100][0/1]\n",
      "- D_loss : 0.0002 / G_loss : 12.3378\n",
      "- D(x):0.9998 / D(G(z1)) : 0.0000 / D(G(z2)) : 0.0000\n"
     ]
    }
   ],
   "source": [
    "for epoch in range(epochs):\n",
    "    train_DCGAN(epoch, learning_G_per_D = 30)"
   ]
  },
  {
   "cell_type": "markdown",
   "metadata": {},
   "source": [
    "# Animation"
   ]
  },
  {
   "cell_type": "code",
   "execution_count": null,
   "metadata": {},
   "outputs": [],
   "source": [
    "def animate_gen_imgs():\n",
    "    fig = plt.figure(figsize=(8,8))\n",
    "    plt.axis(\"off\")\n",
    "    \n",
    "    ims=[[plt.imshow(np.transpose(i,(1,2,0)), animated=True)] for i in img_list]\n",
    "    ani = animation.ArtistAnimation(fig, ims, interval=1000, repeat_delay=1000, blit=True)\n",
    "    HTML(ani.to_jshtml())"
   ]
  },
  {
   "cell_type": "code",
   "execution_count": null,
   "metadata": {},
   "outputs": [],
   "source": [
    "animate_gen_imgs()"
   ]
  },
  {
   "cell_type": "markdown",
   "metadata": {},
   "source": [
    "# Trian : izif E"
   ]
  },
  {
   "cell_type": "code",
   "execution_count": null,
   "metadata": {},
   "outputs": [],
   "source": [
    "G.eval()\n",
    "D.eval()\n",
    "\n",
    "kappa = 1.0\n",
    "E_losses = []\n",
    "\n",
    "iters = 0\n",
    "AE_img_list = []\n",
    "\n",
    "def train_AE(epoch):\n",
    "    global epochs\n",
    "    global iters\n",
    "    \n",
    "    # 인덱스 0부터 세기 시작\n",
    "    # data[0].size():64x1x64x64(image) / data[1].size():64(label)\n",
    "    for i,data in enumerate(data_loader,0):\n",
    "        \n",
    "        real_imgs = data[0].to(device)\n",
    "        \n",
    "        E_optimizer.zero_grad()\n",
    "        \n",
    "        #print(real_imgs.shape)\n",
    "        E_validity = E(real_imgs)\n",
    "        \n",
    "        fake_imgs = G(E_validity)\n",
    "        \n",
    "        _, real_features = D.forward(real_imgs)\n",
    "        _, fake_features = D.forward(fake_imgs)\n",
    "        \n",
    "        \n",
    "        # izif architecture\n",
    "        imgs_loss = AE_criterion(real_imgs, fake_imgs)\n",
    "        features_loss = AE_criterion(real_features, fake_features)\n",
    "        E_loss = imgs_loss + kappa*features_loss\n",
    "        \n",
    "        E_loss.backward()\n",
    "        E_optimizer.step()\n",
    "        \n",
    "        # =============================================================\n",
    "        # print\n",
    "        # =============================================================\n",
    "        print('[%d/%d][%d/%d]\\n- E_loss: %.4f\\n'\n",
    "              %(epoch+1, epochs, i, len(data_loader), E_loss.item()))\n",
    "        \n",
    "        # Save Losses for plotting later\n",
    "        E_losses.append(E_loss.item())\n",
    "        \n",
    "        #Check how the generator is doing by saving G's output on noise_z\n",
    "        if (iters % 500 == 0) or ((epoch == epochs-1) and (i == len(data_loader)-1)):\n",
    "            with torch.no_grad():\n",
    "                fake = G(E_validity).detach().cpu()\n",
    "            AE_img_list.append(vutils.make_grid(fake, padding=2, normalize=True))\n",
    "            \n",
    "        iters += 1\n",
    "        \n",
    "#torch.save(E.state_dict(), 'E.ckpt')"
   ]
  },
  {
   "cell_type": "code",
   "execution_count": null,
   "metadata": {
    "scrolled": true
   },
   "outputs": [],
   "source": [
    "for epoch in range(epochs):\n",
    "    train_AE(epoch)"
   ]
  },
  {
   "cell_type": "markdown",
   "metadata": {},
   "source": [
    "# Loss Graph"
   ]
  },
  {
   "cell_type": "code",
   "execution_count": null,
   "metadata": {},
   "outputs": [],
   "source": [
    "def plot_train_loss():\n",
    "    plt.figure(figsize=(10,5))\n",
    "    plt.title(\"Generator and Discriminator Loss During Training\")\n",
    "    plt.plot(G_losses, label=\"G\")\n",
    "    plt.plot(D_losses, label=\"D\")\n",
    "    plt.plot(E_losses, label=\"E\")\n",
    "    plt.xlabel(\"iterations\")\n",
    "    plt.ylabel(\"Loss\")\n",
    "    plt.legend()\n",
    "    plt.show()"
   ]
  },
  {
   "cell_type": "code",
   "execution_count": null,
   "metadata": {},
   "outputs": [],
   "source": [
    "plot_train_loss()"
   ]
  },
  {
   "cell_type": "markdown",
   "metadata": {},
   "source": [
    "---"
   ]
  },
  {
   "cell_type": "markdown",
   "metadata": {},
   "source": [
    "# Test Data"
   ]
  },
  {
   "cell_type": "code",
   "execution_count": null,
   "metadata": {},
   "outputs": [],
   "source": [
    "test_data_root = \"/home/piai/POSCO-GANgineer/OhSeHyeon/source/dataset/test/test_CFRP\"\n",
    "test_data_set = dataset.ImageFolder(root = test_data_root,\n",
    "                           transform = transforms.Compose([\n",
    "                                  transforms.Resize(img_size),\n",
    "                                  transforms.CenterCrop(img_size),\n",
    "                                  torchvision.transforms.Grayscale(channel),\n",
    "                                  transforms.ToTensor(),\n",
    "                                  transforms.Normalize((0.5,),(0.5,))\n",
    "                              ]))\n",
    "\n",
    "# 배치로 나누고 셔플하기\n",
    "test_data_loader = torch.utils.data.DataLoader(test_data_set, batch_size = 1,\n",
    "                                              shuffle = False, num_workers = workers)"
   ]
  },
  {
   "cell_type": "markdown",
   "metadata": {},
   "source": [
    "# 이상 픽셀 수 확인 함수"
   ]
  },
  {
   "cell_type": "code",
   "execution_count": null,
   "metadata": {},
   "outputs": [],
   "source": [
    "def count_el_not_0(diff_img):\n",
    "    count_el_not_0 = 0\n",
    "    \n",
    "    col_size = diff_img.shape[0]\n",
    "    row_size = diff_img.shape[1]\n",
    "    \n",
    "    #print(col_size, row_size)\n",
    "    \n",
    "    for col in range(col_size):\n",
    "        for row in range(row_size):\n",
    "            if diff_img[col][row] != 0:\n",
    "                count_el_not_0 += 1\n",
    "                \n",
    "    return count_el_not_0"
   ]
  },
  {
   "cell_type": "markdown",
   "metadata": {},
   "source": [
    "# img 비교 함수"
   ]
  },
  {
   "cell_type": "code",
   "execution_count": null,
   "metadata": {},
   "outputs": [],
   "source": [
    "def compare_imgs(real_img, generated_img, i, score, reverse=False, threshold=50):\n",
    "    real_img = real_img.cpu().data.numpy().reshape(img_size, img_size) * 255\n",
    "    generated_img = generated_img.cpu().data.numpy().reshape(img_size, img_size) * 255\n",
    "    \n",
    "    negative = np.zeros_like(real_img)\n",
    "\n",
    "    if not reverse:\n",
    "        diff_img = real_img - generated_img\n",
    "    else:\n",
    "        diff_img = generated_img - real_img\n",
    "\n",
    "    diff_img[diff_img <= threshold] = 0\n",
    "\n",
    "    # 분율 추출\n",
    "    diff_cnts.append(count_el_not_0(diff_img))\n",
    "    # 분산 추출\n",
    "    diff_points.append(np.where(diff_img > threshold))\n",
    "    \n",
    "    anomaly_img = np.zeros(shape=(img_size, img_size, 3))\n",
    "    anomaly_img[:, :, 0] = real_img - diff_img\n",
    "    anomaly_img[:, :, 1] = real_img - diff_img\n",
    "    anomaly_img[:, :, 2] = real_img - diff_img\n",
    "    anomaly_img[:, :, 0] = anomaly_img[:,:,0] + diff_img\n",
    "    anomaly_img = anomaly_img.astype(np.uint8)\n",
    "    \n",
    "    # anomaly_imgs\n",
    "    anomaly_imgs.append(anomaly_img)\n",
    "\n",
    "    fig, plots = plt.subplots(1, 4)\n",
    "\n",
    "    fig.suptitle(f'Anomaly - (anomaly score: {score:.4})')\n",
    "    \n",
    "    fig.set_figwidth(9)\n",
    "    fig.set_tight_layout(True)\n",
    "    plots = plots.reshape(-1)\n",
    "    plots[0].imshow(real_img, cmap='gray', label = \"real\")\n",
    "    plots[1].imshow(generated_img, cmap='gray')\n",
    "    plots[2].imshow(diff_img, cmap='gray')\n",
    "    plots[3].imshow(anomaly_img)\n",
    "    \n",
    "    plots[0].set_title('real')\n",
    "    plots[1].set_title('generated')\n",
    "    plots[2].set_title('difference')\n",
    "    plots[3].set_title('Anomaly Detection')\n",
    "    plt.show()"
   ]
  },
  {
   "cell_type": "markdown",
   "metadata": {},
   "source": [
    "# Test"
   ]
  },
  {
   "cell_type": "code",
   "execution_count": null,
   "metadata": {},
   "outputs": [],
   "source": [
    "diff_cnts = []\n",
    "diff_points = []\n",
    "anomaly_imgs = []\n",
    "\n",
    "ano_criterion = nn.MSELoss()\n",
    "G.eval()\n",
    "D.eval()\n",
    "E.eval()\n",
    "\n",
    "# with open(\"score.csv\", \"w\") as f:\n",
    "#         f.write(\"label,img_distance,anomaly_score,z_distance\\n\")\n",
    "\n",
    "for i, data in enumerate(test_data_loader, 0):\n",
    "    real_img = data[0].to(device)\n",
    "\n",
    "    real_z = E(real_img) # 진짜 이미지의 latent vector\n",
    "    fake_img = G(real_z) # G에 넣어서 가짜 이미지 생성.\n",
    "    fake_z = E(fake_img) # torch.Size([1, 100]) --> latent 진짜 이미지와 매핑된 가짜 이미지의 latent vector\n",
    "\n",
    "    _, real_feature = D.forward(real_img) # 1, 256\n",
    "    _, fake_feature = D.forward(fake_img)\n",
    "\n",
    "    img_distance = ano_criterion(fake_img, real_img)\n",
    "    loss_feature = ano_criterion(fake_feature, real_feature)\n",
    "\n",
    "    anomaly_score = img_distance + kappa*loss_feature\n",
    "\n",
    "    z_distance = ano_criterion(fake_z, real_z)\n",
    "    \n",
    "#     with open(\"score.csv\", \"a\") as f:\n",
    "#             f.write(f\"{label.item()},{img_distance},\"\n",
    "#                     f\"{anomaly_score},{z_distance}\\n\")\n",
    "            \n",
    "#     print(f\"{label.item()}, {img_distance}, \"\n",
    "#           f\"{anomaly_score}, {z_distance}\\n\")\n",
    "    compare_imgs(real_img, fake_img, i, anomaly_score, reverse = False, threshold = 0.3)"
   ]
  },
  {
   "cell_type": "markdown",
   "metadata": {},
   "source": [
    "---"
   ]
  },
  {
   "cell_type": "markdown",
   "metadata": {},
   "source": [
    "# 분율 추출"
   ]
  },
  {
   "cell_type": "code",
   "execution_count": null,
   "metadata": {},
   "outputs": [],
   "source": [
    "diff_cnts = np.array(diff_cnts)\n",
    "\n",
    "diff_fraction = diff_cnts / img_size ** 2\n",
    "\n",
    "print(diff_fraction)"
   ]
  },
  {
   "cell_type": "markdown",
   "metadata": {},
   "source": [
    "---"
   ]
  },
  {
   "cell_type": "markdown",
   "metadata": {},
   "source": [
    "# 분산 추출"
   ]
  },
  {
   "cell_type": "code",
   "execution_count": null,
   "metadata": {},
   "outputs": [],
   "source": [
    "from scipy import stats\n",
    "from extended_int import int_inf\n",
    "\n",
    "corr_coeffis = []\n",
    "corr_p_vals = []\n",
    "\n",
    "def cal_corr_coeffis():\n",
    "    for idx in range(len(test_data_loader)):\n",
    "        x_points = diff_points[idx][0]\n",
    "        y_points = diff_points[idx][1]\n",
    "        \n",
    "        \n",
    "        if len(x_points) > 0:\n",
    "            corr_coeffi, corr_p_val = stats.pearsonr(x_points, y_points)\n",
    "        else:\n",
    "            corr_coeffi, corr_p_val = -int_inf, -int_inf\n",
    "        \n",
    "        corr_coeffis.append(corr_coeffi)\n",
    "        corr_p_vals.append(corr_p_val)"
   ]
  },
  {
   "cell_type": "code",
   "execution_count": null,
   "metadata": {},
   "outputs": [],
   "source": [
    "cal_corr_coeffis()\n",
    "\n",
    "print(corr_coeffis)"
   ]
  },
  {
   "cell_type": "markdown",
   "metadata": {},
   "source": [
    "---"
   ]
  },
  {
   "cell_type": "markdown",
   "metadata": {},
   "source": [
    "# 모델 저장 및 읽기"
   ]
  },
  {
   "cell_type": "code",
   "execution_count": null,
   "metadata": {},
   "outputs": [],
   "source": [
    "save_file = \"./pretrained/pretrained.pth\"\n",
    "\n",
    "def save_pretrained():\n",
    "    pretrained = {\n",
    "        \"D\" : D.state_dict(),\n",
    "        \"G\" : G.state_dict(),\n",
    "        \"E\" : E.state_dict()\n",
    "    }\n",
    "\n",
    "    if not os.path.isdir(\"pretrained\"):\n",
    "        os.mkdir(\"pretrained\")\n",
    "    torch.save(pretrained, save_file)"
   ]
  },
  {
   "cell_type": "code",
   "execution_count": null,
   "metadata": {},
   "outputs": [],
   "source": [
    "save_pretrained()"
   ]
  },
  {
   "cell_type": "code",
   "execution_count": null,
   "metadata": {},
   "outputs": [],
   "source": [
    "pretrained_D = Discriminator().to(device)\n",
    "pretrained_G = Generator().to(device)\n",
    "pretrained_E = Encoder().to(device)\n",
    "\n",
    "def load_pretrained():\n",
    "    global pretrained_D\n",
    "    global pretrained_G\n",
    "    global pretrained_E\n",
    "    \n",
    "    assert os.path.isdir(\"pretrained\"), \"Error : no pretrained dir found!\"\n",
    "    \n",
    "    pretrained = torch.load(save_file)\n",
    "    \n",
    "    pretrained_D.load_state_dict(pretrained[\"D\"])\n",
    "    pretrained_G.load_state_dict(pretrained[\"G\"])\n",
    "    pretrained_E.load_state_dict(pretrained[\"E\"])\n",
    "    \n",
    "    #print(\"pretrained_D :\", pretrained_D)\n",
    "    #print(\"pretrained_G :\", pretrained_G)\n",
    "    #print(\"pretrained_E :\", pretrained_E)"
   ]
  },
  {
   "cell_type": "code",
   "execution_count": null,
   "metadata": {},
   "outputs": [],
   "source": [
    "load_pretrained()"
   ]
  },
  {
   "cell_type": "code",
   "execution_count": null,
   "metadata": {},
   "outputs": [],
   "source": [
    "def test():\n",
    "    ano_criterion = nn.MSELoss()\n",
    "    pretrained_G.eval()\n",
    "    pretrained_D.eval()\n",
    "    pretrained_E.eval()\n",
    "\n",
    "    # with open(\"score.csv\", \"w\") as f:\n",
    "    #         f.write(\"label,img_distance,anomaly_score,z_distance\\n\")\n",
    "\n",
    "    for i, data in enumerate(test_data_loader, 0):\n",
    "        real_img = data[0].to(device)\n",
    "\n",
    "        real_z = pretrained_E(real_img) # 진짜 이미지의 latent vector\n",
    "        fake_img = pretrained_G(real_z) # G에 넣어서 가짜 이미지 생성.\n",
    "        fake_z = pretrained_E(fake_img) # torch.Size([1, 100]) --> latent 진짜 이미지와 매핑된 가짜 이미지의 latent vector\n",
    "\n",
    "        _, real_feature = pretrained_D.forward(real_img) # 1, 256\n",
    "        _, fake_feature = pretrained_D.forward(fake_img)\n",
    "\n",
    "        img_distance = ano_criterion(fake_img, real_img)\n",
    "        loss_feature = ano_criterion(fake_feature, real_feature)\n",
    "\n",
    "        anomaly_score = img_distance + kappa*loss_feature\n",
    "\n",
    "        z_distance = ano_criterion(fake_z, real_z)\n",
    "\n",
    "    #     with open(\"score.csv\", \"a\") as f:\n",
    "    #             f.write(f\"{label.item()},{img_distance},\"\n",
    "    #                     f\"{anomaly_score},{z_distance}\\n\")\n",
    "\n",
    "    #     print(f\"{label.item()}, {img_distance}, \"\n",
    "    #           f\"{anomaly_score}, {z_distance}\\n\")\n",
    "        compare_imgs(real_img, fake_img, i, anomaly_score, reverse = False, threshold = 0.3)"
   ]
  },
  {
   "cell_type": "code",
   "execution_count": null,
   "metadata": {},
   "outputs": [],
   "source": [
    "diff_cnts = []\n",
    "diff_points = []\n",
    "anomaly_imgs = []\n",
    "\n",
    "corr_coeffis = []\n",
    "corr_p_vals = []\n",
    "\n",
    "test()"
   ]
  },
  {
   "cell_type": "code",
   "execution_count": null,
   "metadata": {},
   "outputs": [],
   "source": [
    "diff_cnts = np.array(diff_cnts)\n",
    "\n",
    "diff_fraction = diff_cnts / img_size ** 2\n",
    "\n",
    "print(diff_fraction)"
   ]
  },
  {
   "cell_type": "code",
   "execution_count": null,
   "metadata": {},
   "outputs": [],
   "source": [
    "cal_corr_coeffis()\n",
    "\n",
    "print(corr_coeffis)"
   ]
  },
  {
   "cell_type": "markdown",
   "metadata": {},
   "source": [
    "---"
   ]
  },
  {
   "cell_type": "markdown",
   "metadata": {},
   "source": [
    "# anomaly detection 이미지 추출"
   ]
  },
  {
   "cell_type": "code",
   "execution_count": null,
   "metadata": {},
   "outputs": [],
   "source": [
    "anomaly_imgs"
   ]
  },
  {
   "cell_type": "markdown",
   "metadata": {},
   "source": [
    "# 이미지 저장 함수"
   ]
  },
  {
   "cell_type": "code",
   "execution_count": null,
   "metadata": {},
   "outputs": [],
   "source": [
    "import cv2\n",
    "\n",
    "def save_imgs(folder, imgs):\n",
    "    if not os.path.isdir(\"anomaly_imgs_첫번째시도\"):\n",
    "        os.mkdir(\"anomaly_imgs_첫번째시도\")\n",
    "    \n",
    "    for i in range(len(imgs)):\n",
    "        cv2.imwrite('%s/%d.png' %(folder,i), imgs[i]) #이미지 저장할 경로 설정을 여기서 한다.\n",
    "    print(\"image saving complete\")"
   ]
  },
  {
   "cell_type": "code",
   "execution_count": null,
   "metadata": {},
   "outputs": [],
   "source": [
    "save_imgs(\"./anomaly_imgs_첫번째시도\", anomaly_imgs)"
   ]
  },
  {
   "cell_type": "markdown",
   "metadata": {},
   "source": [
    "---"
   ]
  },
  {
   "cell_type": "markdown",
   "metadata": {},
   "source": [
    "# 티타늄(Ti64) 상대 밀도 계산"
   ]
  },
  {
   "cell_type": "code",
   "execution_count": null,
   "metadata": {},
   "outputs": [],
   "source": [
    "Ti64_density = 4.43\n",
    "\n",
    "Ti64_rel_densitys = np.array([])\n",
    "\n",
    "Ti64_rel_densitys = diff_fraction * Ti64_density\n",
    "\n",
    "print(Ti64_rel_densitys)"
   ]
  }
 ],
 "metadata": {
  "kernelspec": {
   "display_name": "Pytorch",
   "language": "python",
   "name": "pytorch"
  },
  "language_info": {
   "codemirror_mode": {
    "name": "ipython",
    "version": 3
   },
   "file_extension": ".py",
   "mimetype": "text/x-python",
   "name": "python",
   "nbconvert_exporter": "python",
   "pygments_lexer": "ipython3",
   "version": "3.7.7"
  }
 },
 "nbformat": 4,
 "nbformat_minor": 4
}
